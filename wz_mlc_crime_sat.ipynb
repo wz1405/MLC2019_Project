{
 "cells": [
  {
   "cell_type": "code",
   "execution_count": 4,
   "metadata": {
    "ExecuteTime": {
     "end_time": "2019-05-05T18:06:26.290349Z",
     "start_time": "2019-05-05T18:06:25.683668Z"
    }
   },
   "outputs": [],
   "source": [
    "import os\n",
    "import sys\n",
    "import io\n",
    "import numpy as np\n",
    "import pandas as pd\n",
    "import geopandas as gpd\n",
    "import urllib\n",
    "from matplotlib import pyplot as plt\n",
    "from fiona.crs import from_epsg\n",
    "import requests\n",
    "\n",
    "%matplotlib inline"
   ]
  },
  {
   "cell_type": "markdown",
   "metadata": {},
   "source": [
    "## Census tracts"
   ]
  },
  {
   "cell_type": "code",
   "execution_count": 183,
   "metadata": {
    "ExecuteTime": {
     "end_time": "2019-05-06T01:18:13.190288Z",
     "start_time": "2019-05-06T01:18:13.186086Z"
    }
   },
   "outputs": [
    {
     "name": "stdout",
     "output_type": "stream",
     "text": [
      "file in place, you can continue\n"
     ]
    }
   ],
   "source": [
    "if not os.path.isfile(\"data/Census_Tracts_2010.gz\"):\n",
    "    # https://www1.nyc.gov/assets/planning/download/zip/data-maps/open-data/nyct2010_19a.zip\n",
    "    url = 'https://data.cityofnewyork.us/api/geospatial/fxpq-c8ku?method=export&format=Shapefile'\n",
    "    urllib.request.urlretrieve(url, \"Census_Tracts_2010.gz\")\n",
    "    !mv Census_Tracts_2010.gz data\n",
    "    !unzip -o data/Census_Tracts_2010.gz -d data/Census_Tracts_2010\n",
    "else:\n",
    "    print(\"file in place, you can continue\")"
   ]
  },
  {
   "cell_type": "code",
   "execution_count": 184,
   "metadata": {
    "ExecuteTime": {
     "end_time": "2019-05-06T01:18:14.231975Z",
     "start_time": "2019-05-06T01:18:14.017172Z"
    }
   },
   "outputs": [
    {
     "name": "stdout",
     "output_type": "stream",
     "text": [
      "(288, 12)\n"
     ]
    },
    {
     "data": {
      "text/html": [
       "<div>\n",
       "<style scoped>\n",
       "    .dataframe tbody tr th:only-of-type {\n",
       "        vertical-align: middle;\n",
       "    }\n",
       "\n",
       "    .dataframe tbody tr th {\n",
       "        vertical-align: top;\n",
       "    }\n",
       "\n",
       "    .dataframe thead th {\n",
       "        text-align: right;\n",
       "    }\n",
       "</style>\n",
       "<table border=\"1\" class=\"dataframe\">\n",
       "  <thead>\n",
       "    <tr style=\"text-align: right;\">\n",
       "      <th></th>\n",
       "      <th>boro_code</th>\n",
       "      <th>boro_ct201</th>\n",
       "      <th>boro_name</th>\n",
       "      <th>cdeligibil</th>\n",
       "      <th>ct2010</th>\n",
       "      <th>ctlabel</th>\n",
       "      <th>ntacode</th>\n",
       "      <th>ntaname</th>\n",
       "      <th>puma</th>\n",
       "      <th>shape_area</th>\n",
       "      <th>shape_leng</th>\n",
       "      <th>geometry</th>\n",
       "    </tr>\n",
       "  </thead>\n",
       "  <tbody>\n",
       "    <tr>\n",
       "      <th>1</th>\n",
       "      <td>1</td>\n",
       "      <td>1009800</td>\n",
       "      <td>Manhattan</td>\n",
       "      <td>I</td>\n",
       "      <td>009800</td>\n",
       "      <td>98</td>\n",
       "      <td>MN19</td>\n",
       "      <td>Turtle Bay-East Midtown</td>\n",
       "      <td>3808</td>\n",
       "      <td>1.906016e+06</td>\n",
       "      <td>5534.199811</td>\n",
       "      <td>POLYGON ((-73.96432543478758 40.75638153099091...</td>\n",
       "    </tr>\n",
       "    <tr>\n",
       "      <th>2</th>\n",
       "      <td>1</td>\n",
       "      <td>1010000</td>\n",
       "      <td>Manhattan</td>\n",
       "      <td>I</td>\n",
       "      <td>010000</td>\n",
       "      <td>100</td>\n",
       "      <td>MN19</td>\n",
       "      <td>Turtle Bay-East Midtown</td>\n",
       "      <td>3808</td>\n",
       "      <td>1.860938e+06</td>\n",
       "      <td>5692.168737</td>\n",
       "      <td>POLYGON ((-73.96802436915851 40.75957814005282...</td>\n",
       "    </tr>\n",
       "    <tr>\n",
       "      <th>3</th>\n",
       "      <td>1</td>\n",
       "      <td>1010200</td>\n",
       "      <td>Manhattan</td>\n",
       "      <td>I</td>\n",
       "      <td>010200</td>\n",
       "      <td>102</td>\n",
       "      <td>MN17</td>\n",
       "      <td>Midtown-Midtown South</td>\n",
       "      <td>3807</td>\n",
       "      <td>1.860993e+06</td>\n",
       "      <td>5687.802439</td>\n",
       "      <td>POLYGON ((-73.97124277307127 40.76093641847906...</td>\n",
       "    </tr>\n",
       "    <tr>\n",
       "      <th>4</th>\n",
       "      <td>1</td>\n",
       "      <td>1010400</td>\n",
       "      <td>Manhattan</td>\n",
       "      <td>I</td>\n",
       "      <td>010400</td>\n",
       "      <td>104</td>\n",
       "      <td>MN17</td>\n",
       "      <td>Midtown-Midtown South</td>\n",
       "      <td>3807</td>\n",
       "      <td>1.864600e+06</td>\n",
       "      <td>5693.036367</td>\n",
       "      <td>POLYGON ((-73.97445730550224 40.76229308352487...</td>\n",
       "    </tr>\n",
       "    <tr>\n",
       "      <th>5</th>\n",
       "      <td>1</td>\n",
       "      <td>1011300</td>\n",
       "      <td>Manhattan</td>\n",
       "      <td>I</td>\n",
       "      <td>011300</td>\n",
       "      <td>113</td>\n",
       "      <td>MN17</td>\n",
       "      <td>Midtown-Midtown South</td>\n",
       "      <td>3807</td>\n",
       "      <td>1.890907e+06</td>\n",
       "      <td>5699.860641</td>\n",
       "      <td>POLYGON ((-73.98411754823195 40.7548420534646,...</td>\n",
       "    </tr>\n",
       "  </tbody>\n",
       "</table>\n",
       "</div>"
      ],
      "text/plain": [
       "  boro_code boro_ct201  boro_name cdeligibil  ct2010 ctlabel ntacode  \\\n",
       "1         1    1009800  Manhattan          I  009800      98    MN19   \n",
       "2         1    1010000  Manhattan          I  010000     100    MN19   \n",
       "3         1    1010200  Manhattan          I  010200     102    MN17   \n",
       "4         1    1010400  Manhattan          I  010400     104    MN17   \n",
       "5         1    1011300  Manhattan          I  011300     113    MN17   \n",
       "\n",
       "                   ntaname  puma    shape_area   shape_leng  \\\n",
       "1  Turtle Bay-East Midtown  3808  1.906016e+06  5534.199811   \n",
       "2  Turtle Bay-East Midtown  3808  1.860938e+06  5692.168737   \n",
       "3    Midtown-Midtown South  3807  1.860993e+06  5687.802439   \n",
       "4    Midtown-Midtown South  3807  1.864600e+06  5693.036367   \n",
       "5    Midtown-Midtown South  3807  1.890907e+06  5699.860641   \n",
       "\n",
       "                                            geometry  \n",
       "1  POLYGON ((-73.96432543478758 40.75638153099091...  \n",
       "2  POLYGON ((-73.96802436915851 40.75957814005282...  \n",
       "3  POLYGON ((-73.97124277307127 40.76093641847906...  \n",
       "4  POLYGON ((-73.97445730550224 40.76229308352487...  \n",
       "5  POLYGON ((-73.98411754823195 40.7548420534646,...  "
      ]
     },
     "execution_count": 184,
     "metadata": {},
     "output_type": "execute_result"
    }
   ],
   "source": [
    "filename = ! ls data/Census_Tracts_2010 | grep .shp\n",
    "CensusTracts = gpd.GeoDataFrame.from_file('data/Census_Tracts_2010/' + filename[0])\n",
    "CensusTracts = CensusTracts[CensusTracts['boro_name']=='Manhattan']\n",
    "print(CensusTracts.shape)\n",
    "CensusTracts.head()"
   ]
  },
  {
   "cell_type": "code",
   "execution_count": 7,
   "metadata": {
    "ExecuteTime": {
     "end_time": "2019-05-04T23:38:02.292953Z",
     "start_time": "2019-05-04T23:38:02.285994Z"
    }
   },
   "outputs": [
    {
     "data": {
      "text/plain": [
       "288"
      ]
     },
     "execution_count": 7,
     "metadata": {},
     "output_type": "execute_result"
    }
   ],
   "source": [
    "len(CensusTracts['ct2010'].unique())"
   ]
  },
  {
   "cell_type": "code",
   "execution_count": 8,
   "metadata": {
    "ExecuteTime": {
     "end_time": "2019-05-04T23:38:02.764525Z",
     "start_time": "2019-05-04T23:38:02.760489Z"
    }
   },
   "outputs": [
    {
     "data": {
      "text/plain": [
       "288"
      ]
     },
     "execution_count": 8,
     "metadata": {},
     "output_type": "execute_result"
    }
   ],
   "source": [
    "len(CensusTracts['ctlabel'].unique())"
   ]
  },
  {
   "cell_type": "code",
   "execution_count": 9,
   "metadata": {
    "ExecuteTime": {
     "end_time": "2019-05-04T23:38:03.097686Z",
     "start_time": "2019-05-04T23:38:03.093668Z"
    }
   },
   "outputs": [
    {
     "data": {
      "text/plain": [
       "288"
      ]
     },
     "execution_count": 9,
     "metadata": {},
     "output_type": "execute_result"
    }
   ],
   "source": [
    "len(CensusTracts['boro_ct201'].unique())"
   ]
  },
  {
   "cell_type": "markdown",
   "metadata": {},
   "source": [
    "## Census Data"
   ]
  },
  {
   "cell_type": "code",
   "execution_count": 10,
   "metadata": {
    "ExecuteTime": {
     "end_time": "2019-05-04T23:38:06.334120Z",
     "start_time": "2019-05-04T23:38:06.038969Z"
    }
   },
   "outputs": [
    {
     "name": "stdout",
     "output_type": "stream",
     "text": [
      "  % Total    % Received % Xferd  Average Speed   Time    Time     Time  Current\n",
      "                                 Dload  Upload   Total   Spent    Left  Speed\n",
      "100  398k  100  398k    0     0  2372k      0 --:--:-- --:--:-- --:--:-- 2372k\n"
     ]
    }
   ],
   "source": [
    "if not os.path.isfile(\"data/nyc_census_tracts.csv\"):\n",
    "    ! curl https://raw.githubusercontent.com/JunjieTsai/MLC2019_Project/master/data/nyc_census_tracts.csv > data/nyc_census_tracts.csv\n",
    "else:\n",
    "    print(\"file in place, you can continue\")"
   ]
  },
  {
   "cell_type": "code",
   "execution_count": 11,
   "metadata": {
    "ExecuteTime": {
     "end_time": "2019-05-04T23:38:07.816944Z",
     "start_time": "2019-05-04T23:38:07.729074Z"
    }
   },
   "outputs": [
    {
     "name": "stdout",
     "output_type": "stream",
     "text": [
      "(288, 36)\n"
     ]
    },
    {
     "data": {
      "text/html": [
       "<div>\n",
       "<style scoped>\n",
       "    .dataframe tbody tr th:only-of-type {\n",
       "        vertical-align: middle;\n",
       "    }\n",
       "\n",
       "    .dataframe tbody tr th {\n",
       "        vertical-align: top;\n",
       "    }\n",
       "\n",
       "    .dataframe thead th {\n",
       "        text-align: right;\n",
       "    }\n",
       "</style>\n",
       "<table border=\"1\" class=\"dataframe\">\n",
       "  <thead>\n",
       "    <tr style=\"text-align: right;\">\n",
       "      <th></th>\n",
       "      <th>CensusTract</th>\n",
       "      <th>County</th>\n",
       "      <th>Borough</th>\n",
       "      <th>TotalPop</th>\n",
       "      <th>Men</th>\n",
       "      <th>Women</th>\n",
       "      <th>Hispanic</th>\n",
       "      <th>White</th>\n",
       "      <th>Black</th>\n",
       "      <th>Native</th>\n",
       "      <th>...</th>\n",
       "      <th>Walk</th>\n",
       "      <th>OtherTransp</th>\n",
       "      <th>WorkAtHome</th>\n",
       "      <th>MeanCommute</th>\n",
       "      <th>Employed</th>\n",
       "      <th>PrivateWork</th>\n",
       "      <th>PublicWork</th>\n",
       "      <th>SelfEmployed</th>\n",
       "      <th>FamilyWork</th>\n",
       "      <th>Unemployment</th>\n",
       "    </tr>\n",
       "  </thead>\n",
       "  <tbody>\n",
       "    <tr>\n",
       "      <th>1100</th>\n",
       "      <td>36061000100</td>\n",
       "      <td>New York</td>\n",
       "      <td>Manhattan</td>\n",
       "      <td>0</td>\n",
       "      <td>0</td>\n",
       "      <td>0</td>\n",
       "      <td>NaN</td>\n",
       "      <td>NaN</td>\n",
       "      <td>NaN</td>\n",
       "      <td>NaN</td>\n",
       "      <td>...</td>\n",
       "      <td>NaN</td>\n",
       "      <td>NaN</td>\n",
       "      <td>NaN</td>\n",
       "      <td>NaN</td>\n",
       "      <td>0</td>\n",
       "      <td>NaN</td>\n",
       "      <td>NaN</td>\n",
       "      <td>NaN</td>\n",
       "      <td>NaN</td>\n",
       "      <td>NaN</td>\n",
       "    </tr>\n",
       "    <tr>\n",
       "      <th>1101</th>\n",
       "      <td>36061000201</td>\n",
       "      <td>New York</td>\n",
       "      <td>Manhattan</td>\n",
       "      <td>2791</td>\n",
       "      <td>1301</td>\n",
       "      <td>1490</td>\n",
       "      <td>35.3</td>\n",
       "      <td>12.4</td>\n",
       "      <td>6.2</td>\n",
       "      <td>0.0</td>\n",
       "      <td>...</td>\n",
       "      <td>28.2</td>\n",
       "      <td>6.3</td>\n",
       "      <td>1.7</td>\n",
       "      <td>33.0</td>\n",
       "      <td>1105</td>\n",
       "      <td>90.1</td>\n",
       "      <td>7.1</td>\n",
       "      <td>2.8</td>\n",
       "      <td>0.0</td>\n",
       "      <td>2.6</td>\n",
       "    </tr>\n",
       "    <tr>\n",
       "      <th>1102</th>\n",
       "      <td>36061000202</td>\n",
       "      <td>New York</td>\n",
       "      <td>Manhattan</td>\n",
       "      <td>7768</td>\n",
       "      <td>3314</td>\n",
       "      <td>4454</td>\n",
       "      <td>36.8</td>\n",
       "      <td>17.6</td>\n",
       "      <td>12.8</td>\n",
       "      <td>0.0</td>\n",
       "      <td>...</td>\n",
       "      <td>29.7</td>\n",
       "      <td>9.1</td>\n",
       "      <td>7.0</td>\n",
       "      <td>30.9</td>\n",
       "      <td>2667</td>\n",
       "      <td>74.1</td>\n",
       "      <td>19.8</td>\n",
       "      <td>6.1</td>\n",
       "      <td>0.0</td>\n",
       "      <td>15.1</td>\n",
       "    </tr>\n",
       "    <tr>\n",
       "      <th>1103</th>\n",
       "      <td>36061000500</td>\n",
       "      <td>New York</td>\n",
       "      <td>Manhattan</td>\n",
       "      <td>0</td>\n",
       "      <td>0</td>\n",
       "      <td>0</td>\n",
       "      <td>NaN</td>\n",
       "      <td>NaN</td>\n",
       "      <td>NaN</td>\n",
       "      <td>NaN</td>\n",
       "      <td>...</td>\n",
       "      <td>NaN</td>\n",
       "      <td>NaN</td>\n",
       "      <td>NaN</td>\n",
       "      <td>NaN</td>\n",
       "      <td>0</td>\n",
       "      <td>NaN</td>\n",
       "      <td>NaN</td>\n",
       "      <td>NaN</td>\n",
       "      <td>NaN</td>\n",
       "      <td>NaN</td>\n",
       "    </tr>\n",
       "    <tr>\n",
       "      <th>1104</th>\n",
       "      <td>36061000600</td>\n",
       "      <td>New York</td>\n",
       "      <td>Manhattan</td>\n",
       "      <td>12554</td>\n",
       "      <td>5966</td>\n",
       "      <td>6588</td>\n",
       "      <td>33.2</td>\n",
       "      <td>3.4</td>\n",
       "      <td>12.0</td>\n",
       "      <td>0.4</td>\n",
       "      <td>...</td>\n",
       "      <td>37.6</td>\n",
       "      <td>5.1</td>\n",
       "      <td>2.9</td>\n",
       "      <td>30.3</td>\n",
       "      <td>4028</td>\n",
       "      <td>85.0</td>\n",
       "      <td>10.2</td>\n",
       "      <td>4.8</td>\n",
       "      <td>0.0</td>\n",
       "      <td>8.7</td>\n",
       "    </tr>\n",
       "  </tbody>\n",
       "</table>\n",
       "<p>5 rows × 36 columns</p>\n",
       "</div>"
      ],
      "text/plain": [
       "      CensusTract    County    Borough  TotalPop   Men  Women  Hispanic  \\\n",
       "1100  36061000100  New York  Manhattan         0     0      0       NaN   \n",
       "1101  36061000201  New York  Manhattan      2791  1301   1490      35.3   \n",
       "1102  36061000202  New York  Manhattan      7768  3314   4454      36.8   \n",
       "1103  36061000500  New York  Manhattan         0     0      0       NaN   \n",
       "1104  36061000600  New York  Manhattan     12554  5966   6588      33.2   \n",
       "\n",
       "      White  Black  Native      ...       Walk  OtherTransp  WorkAtHome  \\\n",
       "1100    NaN    NaN     NaN      ...        NaN          NaN         NaN   \n",
       "1101   12.4    6.2     0.0      ...       28.2          6.3         1.7   \n",
       "1102   17.6   12.8     0.0      ...       29.7          9.1         7.0   \n",
       "1103    NaN    NaN     NaN      ...        NaN          NaN         NaN   \n",
       "1104    3.4   12.0     0.4      ...       37.6          5.1         2.9   \n",
       "\n",
       "      MeanCommute  Employed  PrivateWork  PublicWork  SelfEmployed  \\\n",
       "1100          NaN         0          NaN         NaN           NaN   \n",
       "1101         33.0      1105         90.1         7.1           2.8   \n",
       "1102         30.9      2667         74.1        19.8           6.1   \n",
       "1103          NaN         0          NaN         NaN           NaN   \n",
       "1104         30.3      4028         85.0        10.2           4.8   \n",
       "\n",
       "      FamilyWork  Unemployment  \n",
       "1100         NaN           NaN  \n",
       "1101         0.0           2.6  \n",
       "1102         0.0          15.1  \n",
       "1103         NaN           NaN  \n",
       "1104         0.0           8.7  \n",
       "\n",
       "[5 rows x 36 columns]"
      ]
     },
     "execution_count": 11,
     "metadata": {},
     "output_type": "execute_result"
    }
   ],
   "source": [
    "census_tracts_data = pd.read_csv(\"data/nyc_census_tracts.csv\")\n",
    "census_tracts_data = census_tracts_data[census_tracts_data['Borough']=='Manhattan']\n",
    "census_tracts_data['CensusTract'] = census_tracts_data['CensusTract'].astype(str)\n",
    "print(census_tracts_data.shape)\n",
    "census_tracts_data.head()"
   ]
  },
  {
   "cell_type": "code",
   "execution_count": 12,
   "metadata": {
    "ExecuteTime": {
     "end_time": "2019-05-04T23:38:12.989166Z",
     "start_time": "2019-05-04T23:38:12.951520Z"
    },
    "scrolled": true
   },
   "outputs": [
    {
     "name": "stdout",
     "output_type": "stream",
     "text": [
      "288\n",
      "288\n"
     ]
    },
    {
     "data": {
      "text/plain": [
       "[('009800', '009800'),\n",
       " ('010000', '010000'),\n",
       " ('010200', '010200'),\n",
       " ('010400', '010400'),\n",
       " ('011300', '011300'),\n",
       " ('011402', '011402'),\n",
       " ('013000', '013000'),\n",
       " ('014000', '014000'),\n",
       " ('014801', '014801'),\n",
       " ('018400', '018400'),\n",
       " ('019000', '019000'),\n",
       " ('020600', '020600'),\n",
       " ('024900', '024900'),\n",
       " ('026100', '026100'),\n",
       " ('026300', '026300'),\n",
       " ('026700', '026700'),\n",
       " ('026900', '026900'),\n",
       " ('027700', '027700'),\n",
       " ('012500', '012500'),\n",
       " ('011900', '011900'),\n",
       " ('022500', '022500'),\n",
       " ('029300', '029300'),\n",
       " ('003001', '003001'),\n",
       " ('005600', '005600'),\n",
       " ('001600', '001600'),\n",
       " ('012000', '012000'),\n",
       " ('012800', '012800'),\n",
       " ('012100', '012100'),\n",
       " ('015001', '015001'),\n",
       " ('010601', '010601'),\n",
       " ('022600', '022600'),\n",
       " ('005501', '005501'),\n",
       " ('020800', '020800'),\n",
       " ('013400', '013400'),\n",
       " ('009200', '009200'),\n",
       " ('011401', '011401'),\n",
       " ('000100', '000100'),\n",
       " ('013100', '013100'),\n",
       " ('006500', '006500'),\n",
       " ('019800', '019800'),\n",
       " ('020000', '020000'),\n",
       " ('014900', '014900'),\n",
       " ('022700', '022700'),\n",
       " ('017402', '017402'),\n",
       " ('021500', '021500'),\n",
       " ('008800', '008800'),\n",
       " ('009000', '009000'),\n",
       " ('001501', '001501'),\n",
       " ('008602', '008602'),\n",
       " ('001402', '001402'),\n",
       " ('007000', '007000'),\n",
       " ('008601', '008601'),\n",
       " ('019600', '019600'),\n",
       " ('001200', '001200'),\n",
       " ('022400', '022400'),\n",
       " ('007200', '007200'),\n",
       " ('007400', '007400'),\n",
       " ('011500', '011500'),\n",
       " ('010602', '010602'),\n",
       " ('011000', '011000'),\n",
       " ('011600', '011600'),\n",
       " ('011202', '011202'),\n",
       " ('008200', '008200'),\n",
       " ('008603', '008603'),\n",
       " ('012400', '012400'),\n",
       " ('013200', '013200'),\n",
       " ('025500', '025500'),\n",
       " ('013800', '013800'),\n",
       " ('008400', '008400'),\n",
       " ('014700', '014700'),\n",
       " ('014200', '014200'),\n",
       " ('030900', '030900'),\n",
       " ('015802', '015802'),\n",
       " ('015100', '015100'),\n",
       " ('013600', '013600'),\n",
       " ('010900', '010900'),\n",
       " ('022900', '022900'),\n",
       " ('023300', '023300'),\n",
       " ('022000', '022000'),\n",
       " ('003100', '003100'),\n",
       " ('016400', '016400'),\n",
       " ('018000', '018000'),\n",
       " ('018200', '018200'),\n",
       " ('002201', '002201'),\n",
       " ('002202', '002202'),\n",
       " ('020901', '020901'),\n",
       " ('005800', '005800'),\n",
       " ('008900', '008900'),\n",
       " ('009300', '009300'),\n",
       " ('011100', '011100'),\n",
       " ('022301', '022301'),\n",
       " ('019300', '019300'),\n",
       " ('007500', '007500'),\n",
       " ('023400', '023400'),\n",
       " ('021400', '021400'),\n",
       " ('009400', '009400'),\n",
       " ('011203', '011203'),\n",
       " ('008300', '008300'),\n",
       " ('030700', '030700'),\n",
       " ('001800', '001800'),\n",
       " ('004100', '004100'),\n",
       " ('009600', '009600'),\n",
       " ('010800', '010800'),\n",
       " ('011201', '011201'),\n",
       " ('024000', '024000'),\n",
       " ('029100', '029100'),\n",
       " ('028300', '028300'),\n",
       " ('028500', '028500'),\n",
       " ('016002', '016002'),\n",
       " ('018600', '018600'),\n",
       " ('024500', '024500'),\n",
       " ('016800', '016800'),\n",
       " ('012200', '012200'),\n",
       " ('018300', '018300'),\n",
       " ('015002', '015002'),\n",
       " ('016001', '016001'),\n",
       " ('017200', '017200'),\n",
       " ('007900', '007900'),\n",
       " ('016900', '016900'),\n",
       " ('015900', '015900'),\n",
       " ('017401', '017401'),\n",
       " ('017000', '017000'),\n",
       " ('016600', '016600'),\n",
       " ('014802', '014802'),\n",
       " ('024700', '024700'),\n",
       " ('016500', '016500'),\n",
       " ('015601', '015601'),\n",
       " ('015602', '015602'),\n",
       " ('023100', '023100'),\n",
       " ('023501', '023501'),\n",
       " ('014601', '014601'),\n",
       " ('014602', '014602'),\n",
       " ('021100', '021100'),\n",
       " ('015801', '015801'),\n",
       " ('002400', '002400'),\n",
       " ('004400', '004400'),\n",
       " ('001502', '001502'),\n",
       " ('000700', '000700'),\n",
       " ('021900', '021900'),\n",
       " ('022302', '022302'),\n",
       " ('005000', '005000'),\n",
       " ('023801', '023801'),\n",
       " ('023802', '023802'),\n",
       " ('025100', '025100'),\n",
       " ('007700', '007700'),\n",
       " ('013500', '013500'),\n",
       " ('013900', '013900'),\n",
       " ('031703', '031703'),\n",
       " ('000500', '000500'),\n",
       " ('002100', '002100'),\n",
       " ('006800', '006800'),\n",
       " ('016300', '016300'),\n",
       " ('013300', '013300'),\n",
       " ('020500', '020500'),\n",
       " ('012700', '012700'),\n",
       " ('012900', '012900'),\n",
       " ('007600', '007600'),\n",
       " ('009500', '009500'),\n",
       " ('010100', '010100'),\n",
       " ('018900', '018900'),\n",
       " ('021200', '021200'),\n",
       " ('008100', '008100'),\n",
       " ('022800', '022800'),\n",
       " ('003601', '003601'),\n",
       " ('004300', '004300'),\n",
       " ('005900', '005900'),\n",
       " ('002800', '002800'),\n",
       " ('016100', '016100'),\n",
       " ('023502', '023502'),\n",
       " ('023600', '023600'),\n",
       " ('002500', '002500'),\n",
       " ('021000', '021000'),\n",
       " ('001300', '001300'),\n",
       " ('030300', '030300'),\n",
       " ('031704', '031704'),\n",
       " ('001001', '001001'),\n",
       " ('001002', '001002'),\n",
       " ('021303', '021303'),\n",
       " ('003800', '003800'),\n",
       " ('000800', '000800'),\n",
       " ('026500', '026500'),\n",
       " ('027500', '027500'),\n",
       " ('021703', '021703'),\n",
       " ('000900', '000900'),\n",
       " ('031900', '031900'),\n",
       " ('000202', '000202'),\n",
       " ('013700', '013700'),\n",
       " ('014500', '014500'),\n",
       " ('027900', '027900'),\n",
       " ('028700', '028700'),\n",
       " ('006300', '006300'),\n",
       " ('005700', '005700'),\n",
       " ('015400', '015400'),\n",
       " ('019702', '019702'),\n",
       " ('006000', '006000'),\n",
       " ('017700', '017700'),\n",
       " ('006200', '006200'),\n",
       " ('000600', '000600'),\n",
       " ('029900', '029900'),\n",
       " ('000201', '000201'),\n",
       " ('001401', '001401'),\n",
       " ('018100', '018100'),\n",
       " ('004500', '004500'),\n",
       " ('002700', '002700'),\n",
       " ('002900', '002900'),\n",
       " ('005502', '005502'),\n",
       " ('003400', '003400'),\n",
       " ('018500', '018500'),\n",
       " ('028100', '028100'),\n",
       " ('006400', '006400'),\n",
       " ('006600', '006600'),\n",
       " ('011800', '011800'),\n",
       " ('012600', '012600'),\n",
       " ('014401', '014401'),\n",
       " ('002000', '002000'),\n",
       " ('002601', '002601'),\n",
       " ('018700', '018700'),\n",
       " ('019100', '019100'),\n",
       " ('022200', '022200'),\n",
       " ('025700', '025700'),\n",
       " ('003002', '003002'),\n",
       " ('003602', '003602'),\n",
       " ('023900', '023900'),\n",
       " ('024301', '024301'),\n",
       " ('024302', '024302'),\n",
       " ('031100', '031100'),\n",
       " ('009900', '009900'),\n",
       " ('011700', '011700'),\n",
       " ('017100', '017100'),\n",
       " ('024200', '024200'),\n",
       " ('023700', '023700'),\n",
       " ('024100', '024100'),\n",
       " ('014402', '014402'),\n",
       " ('015200', '015200'),\n",
       " ('002602', '002602'),\n",
       " ('003200', '003200'),\n",
       " ('003300', '003300'),\n",
       " ('003900', '003900'),\n",
       " ('018800', '018800'),\n",
       " ('019200', '019200'),\n",
       " ('019400', '019400'),\n",
       " ('021600', '021600'),\n",
       " ('020102', '020102'),\n",
       " ('021800', '021800'),\n",
       " ('008700', '008700'),\n",
       " ('009100', '009100'),\n",
       " ('005200', '005200'),\n",
       " ('005400', '005400'),\n",
       " ('015700', '015700'),\n",
       " ('015300', '015300'),\n",
       " ('015500', '015500'),\n",
       " ('019701', '019701'),\n",
       " ('020101', '020101'),\n",
       " ('020300', '020300'),\n",
       " ('020701', '020701'),\n",
       " ('016700', '016700'),\n",
       " ('023200', '023200'),\n",
       " ('025900', '025900'),\n",
       " ('022102', '022102'),\n",
       " ('023000', '023000'),\n",
       " ('025300', '025300'),\n",
       " ('027100', '027100'),\n",
       " ('027300', '027300'),\n",
       " ('029500', '029500'),\n",
       " ('029700', '029700'),\n",
       " ('004000', '004000'),\n",
       " ('004800', '004800'),\n",
       " ('004200', '004200'),\n",
       " ('006100', '006100'),\n",
       " ('006900', '006900'),\n",
       " ('017500', '017500'),\n",
       " ('017900', '017900'),\n",
       " ('006700', '006700'),\n",
       " ('007100', '007100'),\n",
       " ('007300', '007300'),\n",
       " ('014300', '014300'),\n",
       " ('017300', '017300'),\n",
       " ('004700', '004700'),\n",
       " ('019500', '019500'),\n",
       " ('019900', '019900'),\n",
       " ('016200', '016200'),\n",
       " ('017800', '017800'),\n",
       " ('009700', '009700'),\n",
       " ('010300', '010300'),\n",
       " ('007800', '007800'),\n",
       " ('008000', '008000'),\n",
       " ('003700', '003700'),\n",
       " ('004900', '004900')]"
      ]
     },
     "execution_count": 12,
     "metadata": {},
     "output_type": "execute_result"
    }
   ],
   "source": [
    "temp = []\n",
    "for i in CensusTracts['ct2010']:\n",
    "    for j in census_tracts_data['CensusTract']:\n",
    "        j = j[5:]\n",
    "        if i==j:\n",
    "            temp.append((i,j))\n",
    "print(len(temp))\n",
    "print(len(set(temp)))\n",
    "temp"
   ]
  },
  {
   "cell_type": "code",
   "execution_count": null,
   "metadata": {},
   "outputs": [],
   "source": []
  },
  {
   "cell_type": "markdown",
   "metadata": {},
   "source": [
    "## Google POI\n"
   ]
  },
  {
   "cell_type": "code",
   "execution_count": 13,
   "metadata": {
    "ExecuteTime": {
     "end_time": "2019-05-04T23:38:19.546324Z",
     "start_time": "2019-05-04T23:38:18.846452Z"
    },
    "scrolled": true
   },
   "outputs": [
    {
     "name": "stdout",
     "output_type": "stream",
     "text": [
      "Archive:  data/poi.zip\r\n",
      "  inflating: data/poi/SchoolDroppedDuplicates.csv  \r\n",
      "  inflating: data/poi/subway_station.csv  \r\n",
      "  inflating: data/poi/SubwayStationDroppedDuplicates.csv  \r\n",
      "  inflating: data/poi/train_station.csv  \r\n",
      "  inflating: data/poi/TrainStationDroppedDuplicates.csv  \r\n",
      "  inflating: data/poi/bar.csv        \r\n",
      "  inflating: data/poi/BarDroppedDuplicates.csv  \r\n",
      "  inflating: data/poi/bus_station.csv  \r\n",
      "  inflating: data/poi/BusStationDroppedDuplicates.csv  \r\n",
      "  inflating: data/poi/convenience_store.csv  \r\n",
      "  inflating: data/poi/ConvenienceStoreDroppedDuplicates.csv  \r\n",
      "  inflating: data/poi/hospital.csv   \r\n",
      "  inflating: data/poi/HospitalDroppedDuplicates.csv  \r\n",
      "  inflating: data/poi/lodging.csv    \r\n",
      "  inflating: data/poi/LodgingDroppedDuplicates.csv  \r\n",
      "  inflating: data/poi/night_club.csv  \r\n",
      "  inflating: data/poi/NightClubDroppedDuplicates.csv  \r\n",
      "  inflating: data/poi/pharmacy.csv   \r\n",
      "  inflating: data/poi/PharmacyDroppedDuplicates.csv  \r\n",
      "  inflating: data/poi/restaurant.csv  \r\n",
      "  inflating: data/poi/RestaurantDroppedDuplicates.csv  \r\n",
      "  inflating: data/poi/school.csv     \r\n"
     ]
    }
   ],
   "source": [
    "if not os.path.isfile(\"data/poi.zip\"):\n",
    "    url = 'https://github.com/JunjieTsai/MLC2019_Project/raw/master/data/poi/poi.zip'\n",
    "    urllib.request.urlretrieve(url, \"poi.zip\")\n",
    "    !mv poi.zip data\n",
    "    !unzip -o data/poi.zip -d data/poi\n",
    "else:\n",
    "    print(\"file in place, you can continue\")"
   ]
  },
  {
   "cell_type": "code",
   "execution_count": 14,
   "metadata": {
    "ExecuteTime": {
     "end_time": "2019-05-04T23:38:23.256148Z",
     "start_time": "2019-05-04T23:38:23.238939Z"
    },
    "scrolled": true
   },
   "outputs": [
    {
     "data": {
      "text/plain": [
       "['BarDroppedDuplicates.csv',\n",
       " 'BusStationDroppedDuplicates.csv',\n",
       " 'ConvenienceStoreDroppedDuplicates.csv',\n",
       " 'HospitalDroppedDuplicates.csv',\n",
       " 'LodgingDroppedDuplicates.csv',\n",
       " 'NightClubDroppedDuplicates.csv',\n",
       " 'PharmacyDroppedDuplicates.csv',\n",
       " 'RestaurantDroppedDuplicates.csv',\n",
       " 'SchoolDroppedDuplicates.csv',\n",
       " 'SubwayStationDroppedDuplicates.csv',\n",
       " 'TrainStationDroppedDuplicates.csv',\n",
       " 'bar.csv',\n",
       " 'bus_station.csv',\n",
       " 'convenience_store.csv',\n",
       " 'hospital.csv',\n",
       " 'lodging.csv',\n",
       " 'night_club.csv',\n",
       " 'pharmacy.csv',\n",
       " 'restaurant.csv',\n",
       " 'school.csv',\n",
       " 'subway_station.csv',\n",
       " 'train_station.csv']"
      ]
     },
     "execution_count": 14,
     "metadata": {},
     "output_type": "execute_result"
    }
   ],
   "source": [
    "filename = ! ls data/poi | grep .csv\n",
    "filename"
   ]
  },
  {
   "cell_type": "code",
   "execution_count": 15,
   "metadata": {
    "ExecuteTime": {
     "end_time": "2019-05-04T23:38:24.183343Z",
     "start_time": "2019-05-04T23:38:24.169266Z"
    }
   },
   "outputs": [
    {
     "name": "stdout",
     "output_type": "stream",
     "text": [
      "(710, 4)\n"
     ]
    },
    {
     "data": {
      "text/html": [
       "<div>\n",
       "<style scoped>\n",
       "    .dataframe tbody tr th:only-of-type {\n",
       "        vertical-align: middle;\n",
       "    }\n",
       "\n",
       "    .dataframe tbody tr th {\n",
       "        vertical-align: top;\n",
       "    }\n",
       "\n",
       "    .dataframe thead th {\n",
       "        text-align: right;\n",
       "    }\n",
       "</style>\n",
       "<table border=\"1\" class=\"dataframe\">\n",
       "  <thead>\n",
       "    <tr style=\"text-align: right;\">\n",
       "      <th></th>\n",
       "      <th>Unnamed: 0</th>\n",
       "      <th>ConvenienceStoreId</th>\n",
       "      <th>lat</th>\n",
       "      <th>lon</th>\n",
       "    </tr>\n",
       "  </thead>\n",
       "  <tbody>\n",
       "    <tr>\n",
       "      <th>0</th>\n",
       "      <td>0</td>\n",
       "      <td>0</td>\n",
       "      <td>40.729716</td>\n",
       "      <td>-73.992005</td>\n",
       "    </tr>\n",
       "    <tr>\n",
       "      <th>1</th>\n",
       "      <td>1</td>\n",
       "      <td>1</td>\n",
       "      <td>40.731758</td>\n",
       "      <td>-73.994853</td>\n",
       "    </tr>\n",
       "    <tr>\n",
       "      <th>2</th>\n",
       "      <td>2</td>\n",
       "      <td>2</td>\n",
       "      <td>40.734076</td>\n",
       "      <td>-73.989505</td>\n",
       "    </tr>\n",
       "    <tr>\n",
       "      <th>3</th>\n",
       "      <td>3</td>\n",
       "      <td>3</td>\n",
       "      <td>40.729954</td>\n",
       "      <td>-73.986350</td>\n",
       "    </tr>\n",
       "    <tr>\n",
       "      <th>4</th>\n",
       "      <td>4</td>\n",
       "      <td>4</td>\n",
       "      <td>40.734279</td>\n",
       "      <td>-73.990257</td>\n",
       "    </tr>\n",
       "  </tbody>\n",
       "</table>\n",
       "</div>"
      ],
      "text/plain": [
       "   Unnamed: 0  ConvenienceStoreId        lat        lon\n",
       "0           0                   0  40.729716 -73.992005\n",
       "1           1                   1  40.731758 -73.994853\n",
       "2           2                   2  40.734076 -73.989505\n",
       "3           3                   3  40.729954 -73.986350\n",
       "4           4                   4  40.734279 -73.990257"
      ]
     },
     "execution_count": 15,
     "metadata": {},
     "output_type": "execute_result"
    }
   ],
   "source": [
    "poi = pd.read_csv('data/poi/' + filename[2])\n",
    "print(poi.shape)\n",
    "poi.head()"
   ]
  },
  {
   "cell_type": "code",
   "execution_count": null,
   "metadata": {},
   "outputs": [],
   "source": []
  },
  {
   "cell_type": "markdown",
   "metadata": {},
   "source": [
    "## Subway"
   ]
  },
  {
   "cell_type": "code",
   "execution_count": 16,
   "metadata": {
    "ExecuteTime": {
     "end_time": "2019-05-04T23:38:25.864734Z",
     "start_time": "2019-05-04T23:38:25.391051Z"
    }
   },
   "outputs": [
    {
     "name": "stdout",
     "output_type": "stream",
     "text": [
      "Archive:  data/subway.gz\r\n",
      "  inflating: data/subway/geo_export_0f0bd5b5-1fb9-459a-872f-d392204cb1ff.dbf  \r\n",
      "  inflating: data/subway/geo_export_0f0bd5b5-1fb9-459a-872f-d392204cb1ff.shp  \r\n",
      "  inflating: data/subway/geo_export_0f0bd5b5-1fb9-459a-872f-d392204cb1ff.shx  \r\n",
      "  inflating: data/subway/geo_export_0f0bd5b5-1fb9-459a-872f-d392204cb1ff.prj  \r\n"
     ]
    }
   ],
   "source": [
    "if not os.path.isfile(\"data/subway.gz\"):\n",
    "    url = 'https://data.cityofnewyork.us/api/geospatial/drex-xx56?method=export&format=Shapefile'\n",
    "    urllib.request.urlretrieve(url, \"subway.gz\")\n",
    "    !mv subway.gz data\n",
    "    !unzip -o data/subway.gz -d data/subway\n",
    "else:\n",
    "    print(\"file in place, you can continue\")"
   ]
  },
  {
   "cell_type": "code",
   "execution_count": 17,
   "metadata": {
    "ExecuteTime": {
     "end_time": "2019-05-04T23:38:26.387196Z",
     "start_time": "2019-05-04T23:38:26.303491Z"
    }
   },
   "outputs": [
    {
     "name": "stdout",
     "output_type": "stream",
     "text": [
      "(1928, 5)\n"
     ]
    },
    {
     "data": {
      "text/html": [
       "<div>\n",
       "<style scoped>\n",
       "    .dataframe tbody tr th:only-of-type {\n",
       "        vertical-align: middle;\n",
       "    }\n",
       "\n",
       "    .dataframe tbody tr th {\n",
       "        vertical-align: top;\n",
       "    }\n",
       "\n",
       "    .dataframe thead th {\n",
       "        text-align: right;\n",
       "    }\n",
       "</style>\n",
       "<table border=\"1\" class=\"dataframe\">\n",
       "  <thead>\n",
       "    <tr style=\"text-align: right;\">\n",
       "      <th></th>\n",
       "      <th>line</th>\n",
       "      <th>name</th>\n",
       "      <th>objectid</th>\n",
       "      <th>url</th>\n",
       "      <th>geometry</th>\n",
       "    </tr>\n",
       "  </thead>\n",
       "  <tbody>\n",
       "    <tr>\n",
       "      <th>0</th>\n",
       "      <td>2-5</td>\n",
       "      <td>Birchall Ave &amp; Sagamore St at NW corner</td>\n",
       "      <td>1734.0</td>\n",
       "      <td>http://web.mta.info/nyct/service/</td>\n",
       "      <td>POINT (-73.86835600032798 40.84916900104506)</td>\n",
       "    </tr>\n",
       "    <tr>\n",
       "      <th>1</th>\n",
       "      <td>2-5</td>\n",
       "      <td>Birchall Ave &amp; Sagamore St at NE corner</td>\n",
       "      <td>1735.0</td>\n",
       "      <td>http://web.mta.info/nyct/service/</td>\n",
       "      <td>POINT (-73.86821300022677 40.84912800131844)</td>\n",
       "    </tr>\n",
       "    <tr>\n",
       "      <th>2</th>\n",
       "      <td>2-5</td>\n",
       "      <td>Morris Park Ave &amp; 180th St at NW corner</td>\n",
       "      <td>1736.0</td>\n",
       "      <td>http://web.mta.info/nyct/service/</td>\n",
       "      <td>POINT (-73.87349900050798 40.84122300105249)</td>\n",
       "    </tr>\n",
       "    <tr>\n",
       "      <th>3</th>\n",
       "      <td>2-5</td>\n",
       "      <td>Morris Park Ave &amp; 180th St at NW corner</td>\n",
       "      <td>1737.0</td>\n",
       "      <td>http://web.mta.info/nyct/service/</td>\n",
       "      <td>POINT (-73.87289199978331 40.84145300067447)</td>\n",
       "    </tr>\n",
       "    <tr>\n",
       "      <th>4</th>\n",
       "      <td>2-5</td>\n",
       "      <td>Boston Rd &amp; 178th St at SW corner</td>\n",
       "      <td>1738.0</td>\n",
       "      <td>http://web.mta.info/nyct/service/</td>\n",
       "      <td>POINT (-73.87962300013866 40.84081500075867)</td>\n",
       "    </tr>\n",
       "  </tbody>\n",
       "</table>\n",
       "</div>"
      ],
      "text/plain": [
       "  line                                     name  objectid  \\\n",
       "0  2-5  Birchall Ave & Sagamore St at NW corner    1734.0   \n",
       "1  2-5  Birchall Ave & Sagamore St at NE corner    1735.0   \n",
       "2  2-5  Morris Park Ave & 180th St at NW corner    1736.0   \n",
       "3  2-5  Morris Park Ave & 180th St at NW corner    1737.0   \n",
       "4  2-5        Boston Rd & 178th St at SW corner    1738.0   \n",
       "\n",
       "                                 url  \\\n",
       "0  http://web.mta.info/nyct/service/   \n",
       "1  http://web.mta.info/nyct/service/   \n",
       "2  http://web.mta.info/nyct/service/   \n",
       "3  http://web.mta.info/nyct/service/   \n",
       "4  http://web.mta.info/nyct/service/   \n",
       "\n",
       "                                       geometry  \n",
       "0  POINT (-73.86835600032798 40.84916900104506)  \n",
       "1  POINT (-73.86821300022677 40.84912800131844)  \n",
       "2  POINT (-73.87349900050798 40.84122300105249)  \n",
       "3  POINT (-73.87289199978331 40.84145300067447)  \n",
       "4  POINT (-73.87962300013866 40.84081500075867)  "
      ]
     },
     "execution_count": 17,
     "metadata": {},
     "output_type": "execute_result"
    }
   ],
   "source": [
    "filename = ! ls data/subway | grep .shp\n",
    "subway = gpd.GeoDataFrame.from_file('data/subway/' + filename[0])\n",
    "print(subway.shape)\n",
    "subway.head()"
   ]
  },
  {
   "cell_type": "markdown",
   "metadata": {},
   "source": [
    "## bus station"
   ]
  },
  {
   "cell_type": "code",
   "execution_count": 43,
   "metadata": {
    "ExecuteTime": {
     "end_time": "2019-05-04T23:45:20.726046Z",
     "start_time": "2019-05-04T23:45:20.345321Z"
    }
   },
   "outputs": [
    {
     "name": "stdout",
     "output_type": "stream",
     "text": [
      "  % Total    % Received % Xferd  Average Speed   Time    Time     Time  Current\n",
      "                                 Dload  Upload   Total   Spent    Left  Speed\n",
      "100 1867k  100 1867k    0     0  7530k      0 --:--:-- --:--:-- --:--:-- 7530k\n"
     ]
    }
   ],
   "source": [
    "if not os.path.isfile(\"data/bus.csv\"):\n",
    "    ! curl https://raw.githubusercontent.com/JunjieTsai/MLC2019_Project/master/data/bus_stop.csv > data/bus.csv\n",
    "else:\n",
    "    print(\"file in place, you can continue\")"
   ]
  },
  {
   "cell_type": "code",
   "execution_count": 44,
   "metadata": {
    "ExecuteTime": {
     "end_time": "2019-05-04T23:45:21.689298Z",
     "start_time": "2019-05-04T23:45:21.632824Z"
    }
   },
   "outputs": [
    {
     "name": "stdout",
     "output_type": "stream",
     "text": [
      "(16231, 7)\n"
     ]
    },
    {
     "data": {
      "text/html": [
       "<div>\n",
       "<style scoped>\n",
       "    .dataframe tbody tr th:only-of-type {\n",
       "        vertical-align: middle;\n",
       "    }\n",
       "\n",
       "    .dataframe tbody tr th {\n",
       "        vertical-align: top;\n",
       "    }\n",
       "\n",
       "    .dataframe thead th {\n",
       "        text-align: right;\n",
       "    }\n",
       "</style>\n",
       "<table border=\"1\" class=\"dataframe\">\n",
       "  <thead>\n",
       "    <tr style=\"text-align: right;\">\n",
       "      <th></th>\n",
       "      <th>Unnamed: 0</th>\n",
       "      <th>stop_id</th>\n",
       "      <th>stop_lat</th>\n",
       "      <th>stop_lon</th>\n",
       "      <th>stop_name</th>\n",
       "      <th>lonlat</th>\n",
       "      <th>geometry</th>\n",
       "    </tr>\n",
       "  </thead>\n",
       "  <tbody>\n",
       "    <tr>\n",
       "      <th>0</th>\n",
       "      <td>0</td>\n",
       "      <td>300000</td>\n",
       "      <td>40.578350</td>\n",
       "      <td>-73.940029</td>\n",
       "      <td>ORIENTAL BL/MACKENZIE ST</td>\n",
       "      <td>(-73.94002900000001, 40.57835)</td>\n",
       "      <td>POINT (-73.94002900000001 40.57835)</td>\n",
       "    </tr>\n",
       "    <tr>\n",
       "      <th>1</th>\n",
       "      <td>1</td>\n",
       "      <td>300002</td>\n",
       "      <td>40.578066</td>\n",
       "      <td>-73.943029</td>\n",
       "      <td>ORIENTAL BL/JAFFRAY ST</td>\n",
       "      <td>(-73.94302900000001, 40.578066)</td>\n",
       "      <td>POINT (-73.94302900000001 40.578066)</td>\n",
       "    </tr>\n",
       "    <tr>\n",
       "      <th>2</th>\n",
       "      <td>2</td>\n",
       "      <td>300003</td>\n",
       "      <td>40.577909</td>\n",
       "      <td>-73.944643</td>\n",
       "      <td>ORIENTAL BL/HASTINGS ST</td>\n",
       "      <td>(-73.944643, 40.577909000000005)</td>\n",
       "      <td>POINT (-73.944643 40.57790900000001)</td>\n",
       "    </tr>\n",
       "    <tr>\n",
       "      <th>3</th>\n",
       "      <td>3</td>\n",
       "      <td>300004</td>\n",
       "      <td>40.577718</td>\n",
       "      <td>-73.946200</td>\n",
       "      <td>ORIENTAL BL/FALMOUTH ST</td>\n",
       "      <td>(-73.9462, 40.577718)</td>\n",
       "      <td>POINT (-73.9462 40.577718)</td>\n",
       "    </tr>\n",
       "    <tr>\n",
       "      <th>4</th>\n",
       "      <td>4</td>\n",
       "      <td>300006</td>\n",
       "      <td>40.577353</td>\n",
       "      <td>-73.949552</td>\n",
       "      <td>ORIENTAL BL/DOVER ST</td>\n",
       "      <td>(-73.949552, 40.577353)</td>\n",
       "      <td>POINT (-73.949552 40.577353)</td>\n",
       "    </tr>\n",
       "  </tbody>\n",
       "</table>\n",
       "</div>"
      ],
      "text/plain": [
       "   Unnamed: 0  stop_id   stop_lat   stop_lon                 stop_name  \\\n",
       "0           0   300000  40.578350 -73.940029  ORIENTAL BL/MACKENZIE ST   \n",
       "1           1   300002  40.578066 -73.943029    ORIENTAL BL/JAFFRAY ST   \n",
       "2           2   300003  40.577909 -73.944643   ORIENTAL BL/HASTINGS ST   \n",
       "3           3   300004  40.577718 -73.946200   ORIENTAL BL/FALMOUTH ST   \n",
       "4           4   300006  40.577353 -73.949552      ORIENTAL BL/DOVER ST   \n",
       "\n",
       "                             lonlat                              geometry  \n",
       "0    (-73.94002900000001, 40.57835)   POINT (-73.94002900000001 40.57835)  \n",
       "1   (-73.94302900000001, 40.578066)  POINT (-73.94302900000001 40.578066)  \n",
       "2  (-73.944643, 40.577909000000005)  POINT (-73.944643 40.57790900000001)  \n",
       "3             (-73.9462, 40.577718)            POINT (-73.9462 40.577718)  \n",
       "4           (-73.949552, 40.577353)          POINT (-73.949552 40.577353)  "
      ]
     },
     "execution_count": 44,
     "metadata": {},
     "output_type": "execute_result"
    }
   ],
   "source": [
    "bus = pd.read_csv(\"data/bus.csv\")\n",
    "print(bus.shape)\n",
    "bus.head()"
   ]
  },
  {
   "cell_type": "code",
   "execution_count": null,
   "metadata": {},
   "outputs": [],
   "source": []
  },
  {
   "cell_type": "markdown",
   "metadata": {},
   "source": [
    "## Park"
   ]
  },
  {
   "cell_type": "code",
   "execution_count": 22,
   "metadata": {
    "ExecuteTime": {
     "end_time": "2019-05-04T23:38:41.014014Z",
     "start_time": "2019-05-04T23:38:37.501818Z"
    }
   },
   "outputs": [
    {
     "name": "stdout",
     "output_type": "stream",
     "text": [
      "Archive:  data/parks.gz\n",
      "  inflating: data/parks/geo_export_d9f4e30e-ba30-4a3a-8d7a-1e0faf558dea.dbf  \n",
      "  inflating: data/parks/geo_export_d9f4e30e-ba30-4a3a-8d7a-1e0faf558dea.shp  \n",
      "  inflating: data/parks/geo_export_d9f4e30e-ba30-4a3a-8d7a-1e0faf558dea.shx  \n",
      "  inflating: data/parks/geo_export_d9f4e30e-ba30-4a3a-8d7a-1e0faf558dea.prj  \n"
     ]
    }
   ],
   "source": [
    "if not os.path.isfile(\"data/parks.gz\"):\n",
    "    url = 'https://data.cityofnewyork.us/api/geospatial/g84h-jbjm?method=export&format=Shapefile'\n",
    "    urllib.request.urlretrieve(url, \"parks.gz\")\n",
    "    !mv parks.gz data\n",
    "    !unzip -o data/parks.gz -d data/parks\n",
    "else:\n",
    "    print(\"file in place, you can continue\")"
   ]
  },
  {
   "cell_type": "code",
   "execution_count": 23,
   "metadata": {
    "ExecuteTime": {
     "end_time": "2019-05-04T23:38:43.576288Z",
     "start_time": "2019-05-04T23:38:42.759013Z"
    }
   },
   "outputs": [
    {
     "name": "stdout",
     "output_type": "stream",
     "text": [
      "(12491, 11)\n"
     ]
    },
    {
     "data": {
      "text/html": [
       "<div>\n",
       "<style scoped>\n",
       "    .dataframe tbody tr th:only-of-type {\n",
       "        vertical-align: middle;\n",
       "    }\n",
       "\n",
       "    .dataframe tbody tr th {\n",
       "        vertical-align: top;\n",
       "    }\n",
       "\n",
       "    .dataframe thead th {\n",
       "        text-align: right;\n",
       "    }\n",
       "</style>\n",
       "<table border=\"1\" class=\"dataframe\">\n",
       "  <thead>\n",
       "    <tr style=\"text-align: right;\">\n",
       "      <th></th>\n",
       "      <th>feat_code</th>\n",
       "      <th>landuse</th>\n",
       "      <th>park_name</th>\n",
       "      <th>parknum</th>\n",
       "      <th>shape_area</th>\n",
       "      <th>shape_leng</th>\n",
       "      <th>source_id</th>\n",
       "      <th>status</th>\n",
       "      <th>sub_code</th>\n",
       "      <th>system</th>\n",
       "      <th>geometry</th>\n",
       "    </tr>\n",
       "  </thead>\n",
       "  <tbody>\n",
       "    <tr>\n",
       "      <th>0</th>\n",
       "      <td>4910.0</td>\n",
       "      <td>Community Park</td>\n",
       "      <td>Commodore Barry Park</td>\n",
       "      <td>B021</td>\n",
       "      <td>41539.801363</td>\n",
       "      <td>829.420107</td>\n",
       "      <td>2.149100e+10</td>\n",
       "      <td>Updated</td>\n",
       "      <td>491050.0</td>\n",
       "      <td>None</td>\n",
       "      <td>POLYGON ((-73.97922375065221 40.69799879369959...</td>\n",
       "    </tr>\n",
       "    <tr>\n",
       "      <th>1</th>\n",
       "      <td>4980.0</td>\n",
       "      <td>Neighborhood Park</td>\n",
       "      <td>Pierrepont Playground</td>\n",
       "      <td>B222</td>\n",
       "      <td>21960.494920</td>\n",
       "      <td>607.555193</td>\n",
       "      <td>2.149800e+10</td>\n",
       "      <td>Unchanged</td>\n",
       "      <td>498000.0</td>\n",
       "      <td>None</td>\n",
       "      <td>POLYGON ((-73.99732028095745 40.69600764072165...</td>\n",
       "    </tr>\n",
       "    <tr>\n",
       "      <th>2</th>\n",
       "      <td>4980.0</td>\n",
       "      <td>Neighborhood Park</td>\n",
       "      <td>Cobble Hill Park</td>\n",
       "      <td>B326</td>\n",
       "      <td>28079.076265</td>\n",
       "      <td>784.421990</td>\n",
       "      <td>2.149800e+10</td>\n",
       "      <td>Unchanged</td>\n",
       "      <td>498000.0</td>\n",
       "      <td>None</td>\n",
       "      <td>POLYGON ((-73.99557419919979 40.68792918280799...</td>\n",
       "    </tr>\n",
       "    <tr>\n",
       "      <th>3</th>\n",
       "      <td>4980.0</td>\n",
       "      <td>Community Park</td>\n",
       "      <td>Commodore Barry Park</td>\n",
       "      <td>B021</td>\n",
       "      <td>438416.114511</td>\n",
       "      <td>2672.710150</td>\n",
       "      <td>2.149800e+10</td>\n",
       "      <td>Unchanged</td>\n",
       "      <td>498000.0</td>\n",
       "      <td>None</td>\n",
       "      <td>POLYGON ((-73.97746661925957 40.69650941986475...</td>\n",
       "    </tr>\n",
       "    <tr>\n",
       "      <th>4</th>\n",
       "      <td>4980.0</td>\n",
       "      <td>Triangle/Plaza</td>\n",
       "      <td>Brooklyn Heights Promenade</td>\n",
       "      <td>B223DG</td>\n",
       "      <td>14465.699799</td>\n",
       "      <td>1376.106398</td>\n",
       "      <td>2.149800e+10</td>\n",
       "      <td>Unchanged</td>\n",
       "      <td>498000.0</td>\n",
       "      <td>None</td>\n",
       "      <td>POLYGON ((-73.99746719287955 40.69692380834881...</td>\n",
       "    </tr>\n",
       "  </tbody>\n",
       "</table>\n",
       "</div>"
      ],
      "text/plain": [
       "   feat_code            landuse                   park_name parknum  \\\n",
       "0     4910.0     Community Park        Commodore Barry Park    B021   \n",
       "1     4980.0  Neighborhood Park       Pierrepont Playground    B222   \n",
       "2     4980.0  Neighborhood Park            Cobble Hill Park    B326   \n",
       "3     4980.0     Community Park        Commodore Barry Park    B021   \n",
       "4     4980.0     Triangle/Plaza  Brooklyn Heights Promenade  B223DG   \n",
       "\n",
       "      shape_area   shape_leng     source_id     status  sub_code system  \\\n",
       "0   41539.801363   829.420107  2.149100e+10    Updated  491050.0   None   \n",
       "1   21960.494920   607.555193  2.149800e+10  Unchanged  498000.0   None   \n",
       "2   28079.076265   784.421990  2.149800e+10  Unchanged  498000.0   None   \n",
       "3  438416.114511  2672.710150  2.149800e+10  Unchanged  498000.0   None   \n",
       "4   14465.699799  1376.106398  2.149800e+10  Unchanged  498000.0   None   \n",
       "\n",
       "                                            geometry  \n",
       "0  POLYGON ((-73.97922375065221 40.69799879369959...  \n",
       "1  POLYGON ((-73.99732028095745 40.69600764072165...  \n",
       "2  POLYGON ((-73.99557419919979 40.68792918280799...  \n",
       "3  POLYGON ((-73.97746661925957 40.69650941986475...  \n",
       "4  POLYGON ((-73.99746719287955 40.69692380834881...  "
      ]
     },
     "execution_count": 23,
     "metadata": {},
     "output_type": "execute_result"
    }
   ],
   "source": [
    "filename = ! ls data/parks | grep .shp\n",
    "parks = gpd.GeoDataFrame.from_file('data/parks/' + filename[0])\n",
    "print(parks.shape)\n",
    "parks.head()"
   ]
  },
  {
   "cell_type": "code",
   "execution_count": null,
   "metadata": {},
   "outputs": [],
   "source": []
  },
  {
   "cell_type": "code",
   "execution_count": null,
   "metadata": {},
   "outputs": [],
   "source": []
  },
  {
   "cell_type": "markdown",
   "metadata": {},
   "source": [
    "## Crime"
   ]
  },
  {
   "cell_type": "code",
   "execution_count": 180,
   "metadata": {
    "ExecuteTime": {
     "end_time": "2019-05-06T01:17:47.112066Z",
     "start_time": "2019-05-06T01:17:47.107459Z"
    }
   },
   "outputs": [
    {
     "name": "stdout",
     "output_type": "stream",
     "text": [
      "file in place, you can continue\n"
     ]
    }
   ],
   "source": [
    "if not os.path.isfile(\"data/crime.csv\"):\n",
    "    ! curl https://data.cityofnewyork.us/api/views/5uac-w243/rows.csv?accessType=DOWNLOAD > data/crime.csv\n",
    "else:\n",
    "    print(\"file in place, you can continue\")"
   ]
  },
  {
   "cell_type": "code",
   "execution_count": 181,
   "metadata": {
    "ExecuteTime": {
     "end_time": "2019-05-06T01:17:51.057044Z",
     "start_time": "2019-05-06T01:17:47.963082Z"
    },
    "scrolled": true
   },
   "outputs": [
    {
     "name": "stdout",
     "output_type": "stream",
     "text": [
      "(464065, 35)\n"
     ]
    },
    {
     "data": {
      "text/html": [
       "<div>\n",
       "<style scoped>\n",
       "    .dataframe tbody tr th:only-of-type {\n",
       "        vertical-align: middle;\n",
       "    }\n",
       "\n",
       "    .dataframe tbody tr th {\n",
       "        vertical-align: top;\n",
       "    }\n",
       "\n",
       "    .dataframe thead th {\n",
       "        text-align: right;\n",
       "    }\n",
       "</style>\n",
       "<table border=\"1\" class=\"dataframe\">\n",
       "  <thead>\n",
       "    <tr style=\"text-align: right;\">\n",
       "      <th></th>\n",
       "      <th>CMPLNT_NUM</th>\n",
       "      <th>ADDR_PCT_CD</th>\n",
       "      <th>BORO_NM</th>\n",
       "      <th>CMPLNT_FR_DT</th>\n",
       "      <th>CMPLNT_FR_TM</th>\n",
       "      <th>CMPLNT_TO_DT</th>\n",
       "      <th>CMPLNT_TO_TM</th>\n",
       "      <th>CRM_ATPT_CPTD_CD</th>\n",
       "      <th>HADEVELOPT</th>\n",
       "      <th>HOUSING_PSA</th>\n",
       "      <th>...</th>\n",
       "      <th>SUSP_SEX</th>\n",
       "      <th>TRANSIT_DISTRICT</th>\n",
       "      <th>VIC_AGE_GROUP</th>\n",
       "      <th>VIC_RACE</th>\n",
       "      <th>VIC_SEX</th>\n",
       "      <th>X_COORD_CD</th>\n",
       "      <th>Y_COORD_CD</th>\n",
       "      <th>Latitude</th>\n",
       "      <th>Longitude</th>\n",
       "      <th>Lat_Lon</th>\n",
       "    </tr>\n",
       "  </thead>\n",
       "  <tbody>\n",
       "    <tr>\n",
       "      <th>0</th>\n",
       "      <td>651421035</td>\n",
       "      <td>41.0</td>\n",
       "      <td>BRONX</td>\n",
       "      <td>11/28/2018</td>\n",
       "      <td>00:00:00</td>\n",
       "      <td>11/28/2018</td>\n",
       "      <td>00:01:00</td>\n",
       "      <td>COMPLETED</td>\n",
       "      <td>NaN</td>\n",
       "      <td>NaN</td>\n",
       "      <td>...</td>\n",
       "      <td>U</td>\n",
       "      <td>NaN</td>\n",
       "      <td>25-44</td>\n",
       "      <td>BLACK</td>\n",
       "      <td>M</td>\n",
       "      <td>NaN</td>\n",
       "      <td>NaN</td>\n",
       "      <td>NaN</td>\n",
       "      <td>NaN</td>\n",
       "      <td>NaN</td>\n",
       "    </tr>\n",
       "    <tr>\n",
       "      <th>1</th>\n",
       "      <td>149013323</td>\n",
       "      <td>14.0</td>\n",
       "      <td>MANHATTAN</td>\n",
       "      <td>12/31/2018</td>\n",
       "      <td>23:40:00</td>\n",
       "      <td>12/31/2018</td>\n",
       "      <td>23:50:00</td>\n",
       "      <td>COMPLETED</td>\n",
       "      <td>NaN</td>\n",
       "      <td>NaN</td>\n",
       "      <td>...</td>\n",
       "      <td>NaN</td>\n",
       "      <td>NaN</td>\n",
       "      <td>45-64</td>\n",
       "      <td>WHITE</td>\n",
       "      <td>F</td>\n",
       "      <td>987866.0</td>\n",
       "      <td>214721.0</td>\n",
       "      <td>40.756044</td>\n",
       "      <td>-73.986950</td>\n",
       "      <td>(40.75604353500006, -73.98694954399997)</td>\n",
       "    </tr>\n",
       "    <tr>\n",
       "      <th>2</th>\n",
       "      <td>642981531</td>\n",
       "      <td>73.0</td>\n",
       "      <td>BROOKLYN</td>\n",
       "      <td>12/31/2018</td>\n",
       "      <td>23:30:00</td>\n",
       "      <td>12/31/2018</td>\n",
       "      <td>23:40:00</td>\n",
       "      <td>COMPLETED</td>\n",
       "      <td>NaN</td>\n",
       "      <td>NaN</td>\n",
       "      <td>...</td>\n",
       "      <td>F</td>\n",
       "      <td>NaN</td>\n",
       "      <td>18-24</td>\n",
       "      <td>WHITE HISPANIC</td>\n",
       "      <td>F</td>\n",
       "      <td>1006995.0</td>\n",
       "      <td>185258.0</td>\n",
       "      <td>40.675146</td>\n",
       "      <td>-73.918003</td>\n",
       "      <td>(40.67514616200003, -73.91800323399997)</td>\n",
       "    </tr>\n",
       "    <tr>\n",
       "      <th>3</th>\n",
       "      <td>429685363</td>\n",
       "      <td>67.0</td>\n",
       "      <td>BROOKLYN</td>\n",
       "      <td>12/31/2018</td>\n",
       "      <td>23:20:00</td>\n",
       "      <td>12/31/2018</td>\n",
       "      <td>23:30:00</td>\n",
       "      <td>COMPLETED</td>\n",
       "      <td>NaN</td>\n",
       "      <td>NaN</td>\n",
       "      <td>...</td>\n",
       "      <td>M</td>\n",
       "      <td>NaN</td>\n",
       "      <td>25-44</td>\n",
       "      <td>BLACK</td>\n",
       "      <td>F</td>\n",
       "      <td>999584.0</td>\n",
       "      <td>169903.0</td>\n",
       "      <td>40.633016</td>\n",
       "      <td>-73.944756</td>\n",
       "      <td>(40.63301598000004, -73.94475559899996)</td>\n",
       "    </tr>\n",
       "    <tr>\n",
       "      <th>4</th>\n",
       "      <td>290330841</td>\n",
       "      <td>5.0</td>\n",
       "      <td>MANHATTAN</td>\n",
       "      <td>12/31/2018</td>\n",
       "      <td>23:15:00</td>\n",
       "      <td>12/31/2018</td>\n",
       "      <td>23:20:00</td>\n",
       "      <td>COMPLETED</td>\n",
       "      <td>NaN</td>\n",
       "      <td>NaN</td>\n",
       "      <td>...</td>\n",
       "      <td>U</td>\n",
       "      <td>NaN</td>\n",
       "      <td>25-44</td>\n",
       "      <td>WHITE</td>\n",
       "      <td>M</td>\n",
       "      <td>986164.0</td>\n",
       "      <td>202140.0</td>\n",
       "      <td>40.721512</td>\n",
       "      <td>-73.993096</td>\n",
       "      <td>(40.72151233500005, -73.99309646799998)</td>\n",
       "    </tr>\n",
       "  </tbody>\n",
       "</table>\n",
       "<p>5 rows × 35 columns</p>\n",
       "</div>"
      ],
      "text/plain": [
       "   CMPLNT_NUM  ADDR_PCT_CD    BORO_NM CMPLNT_FR_DT CMPLNT_FR_TM CMPLNT_TO_DT  \\\n",
       "0   651421035         41.0      BRONX   11/28/2018     00:00:00   11/28/2018   \n",
       "1   149013323         14.0  MANHATTAN   12/31/2018     23:40:00   12/31/2018   \n",
       "2   642981531         73.0   BROOKLYN   12/31/2018     23:30:00   12/31/2018   \n",
       "3   429685363         67.0   BROOKLYN   12/31/2018     23:20:00   12/31/2018   \n",
       "4   290330841          5.0  MANHATTAN   12/31/2018     23:15:00   12/31/2018   \n",
       "\n",
       "  CMPLNT_TO_TM CRM_ATPT_CPTD_CD HADEVELOPT  HOUSING_PSA  \\\n",
       "0     00:01:00        COMPLETED        NaN          NaN   \n",
       "1     23:50:00        COMPLETED        NaN          NaN   \n",
       "2     23:40:00        COMPLETED        NaN          NaN   \n",
       "3     23:30:00        COMPLETED        NaN          NaN   \n",
       "4     23:20:00        COMPLETED        NaN          NaN   \n",
       "\n",
       "                    ...                     SUSP_SEX TRANSIT_DISTRICT  \\\n",
       "0                   ...                            U              NaN   \n",
       "1                   ...                          NaN              NaN   \n",
       "2                   ...                            F              NaN   \n",
       "3                   ...                            M              NaN   \n",
       "4                   ...                            U              NaN   \n",
       "\n",
       "   VIC_AGE_GROUP        VIC_RACE VIC_SEX X_COORD_CD Y_COORD_CD   Latitude  \\\n",
       "0          25-44           BLACK       M        NaN        NaN        NaN   \n",
       "1          45-64           WHITE       F   987866.0   214721.0  40.756044   \n",
       "2          18-24  WHITE HISPANIC       F  1006995.0   185258.0  40.675146   \n",
       "3          25-44           BLACK       F   999584.0   169903.0  40.633016   \n",
       "4          25-44           WHITE       M   986164.0   202140.0  40.721512   \n",
       "\n",
       "   Longitude                                  Lat_Lon  \n",
       "0        NaN                                      NaN  \n",
       "1 -73.986950  (40.75604353500006, -73.98694954399997)  \n",
       "2 -73.918003  (40.67514616200003, -73.91800323399997)  \n",
       "3 -73.944756  (40.63301598000004, -73.94475559899996)  \n",
       "4 -73.993096  (40.72151233500005, -73.99309646799998)  \n",
       "\n",
       "[5 rows x 35 columns]"
      ]
     },
     "execution_count": 181,
     "metadata": {},
     "output_type": "execute_result"
    }
   ],
   "source": [
    "crime = pd.read_csv(\"data/crime.csv\")\n",
    "print(crime.shape)\n",
    "crime.head()"
   ]
  },
  {
   "cell_type": "code",
   "execution_count": 185,
   "metadata": {
    "ExecuteTime": {
     "end_time": "2019-05-06T01:18:40.544643Z",
     "start_time": "2019-05-06T01:18:20.346793Z"
    }
   },
   "outputs": [
    {
     "data": {
      "text/html": [
       "<div>\n",
       "<style scoped>\n",
       "    .dataframe tbody tr th:only-of-type {\n",
       "        vertical-align: middle;\n",
       "    }\n",
       "\n",
       "    .dataframe tbody tr th {\n",
       "        vertical-align: top;\n",
       "    }\n",
       "\n",
       "    .dataframe thead th {\n",
       "        text-align: right;\n",
       "    }\n",
       "</style>\n",
       "<table border=\"1\" class=\"dataframe\">\n",
       "  <thead>\n",
       "    <tr style=\"text-align: right;\">\n",
       "      <th>LAW_CAT_CD</th>\n",
       "      <th>FELONY</th>\n",
       "      <th>MISDEMEANOR</th>\n",
       "      <th>VIOLATION</th>\n",
       "    </tr>\n",
       "    <tr>\n",
       "      <th>boro_ct201</th>\n",
       "      <th></th>\n",
       "      <th></th>\n",
       "      <th></th>\n",
       "    </tr>\n",
       "  </thead>\n",
       "  <tbody>\n",
       "    <tr>\n",
       "      <th>1000201</th>\n",
       "      <td>54</td>\n",
       "      <td>90</td>\n",
       "      <td>21</td>\n",
       "    </tr>\n",
       "    <tr>\n",
       "      <th>1000202</th>\n",
       "      <td>68</td>\n",
       "      <td>155</td>\n",
       "      <td>51</td>\n",
       "    </tr>\n",
       "    <tr>\n",
       "      <th>1000600</th>\n",
       "      <td>173</td>\n",
       "      <td>286</td>\n",
       "      <td>57</td>\n",
       "    </tr>\n",
       "    <tr>\n",
       "      <th>1000700</th>\n",
       "      <td>99</td>\n",
       "      <td>349</td>\n",
       "      <td>56</td>\n",
       "    </tr>\n",
       "    <tr>\n",
       "      <th>1000800</th>\n",
       "      <td>117</td>\n",
       "      <td>294</td>\n",
       "      <td>88</td>\n",
       "    </tr>\n",
       "  </tbody>\n",
       "</table>\n",
       "</div>"
      ],
      "text/plain": [
       "LAW_CAT_CD  FELONY  MISDEMEANOR  VIOLATION\n",
       "boro_ct201                                \n",
       "1000201         54           90         21\n",
       "1000202         68          155         51\n",
       "1000600        173          286         57\n",
       "1000700         99          349         56\n",
       "1000800        117          294         88"
      ]
     },
     "execution_count": 185,
     "metadata": {},
     "output_type": "execute_result"
    }
   ],
   "source": [
    "crime1 = crime[['CMPLNT_NUM', 'ADDR_PCT_CD',\n",
    "                'BORO_NM', 'RPT_DT', 'LAW_CAT_CD','Latitude', 'Longitude']]\n",
    "\n",
    "crime1 = crime1.dropna()\n",
    "\n",
    "from geopandas.tools import sjoin\n",
    "import geopandas as gpd\n",
    "import shapely\n",
    "from shapely.geometry import LineString, Point\n",
    "from fiona.crs import from_epsg\n",
    "# crime1['Lat_Lon'] = pd.to_numeric(crime1['Lat_Lon'],errors='coerce')\n",
    "crime1['lonlat']=list(zip(crime1.Longitude,crime1.Latitude))\n",
    "crime1['geometry']=crime1[['lonlat']].applymap(lambda x:shapely.geometry.Point(x))\n",
    "\n",
    "crime1 = crime1[['LAW_CAT_CD', 'geometry']]\n",
    "crime_count = crime1['LAW_CAT_CD'].value_counts().to_frame().reset_index().rename(columns={'index':'values', 'values':'count'})\n",
    "\n",
    "crime1_gpd = gpd.GeoDataFrame(crime1)\n",
    "CensusTracts_gpd = gpd.GeoDataFrame(CensusTracts)\n",
    "crime_ct = gpd.sjoin(CensusTracts_gpd, crime1_gpd)\n",
    "crime_ct2 = crime_ct.groupby(['boro_ct201','LAW_CAT_CD']).size().reset_index(name='counts')\n",
    "crime_ct3 = crime_ct2.pivot(index = 'boro_ct201', columns = 'LAW_CAT_CD', values = 'counts')\n",
    "# df.pivot(index='date', columns='name', values='dollars')\n",
    "crime_ct3.head()"
   ]
  },
  {
   "cell_type": "code",
   "execution_count": 86,
   "metadata": {
    "ExecuteTime": {
     "end_time": "2019-05-05T00:26:57.377528Z",
     "start_time": "2019-05-05T00:26:57.342445Z"
    }
   },
   "outputs": [
    {
     "data": {
      "text/html": [
       "<div>\n",
       "<style scoped>\n",
       "    .dataframe tbody tr th:only-of-type {\n",
       "        vertical-align: middle;\n",
       "    }\n",
       "\n",
       "    .dataframe tbody tr th {\n",
       "        vertical-align: top;\n",
       "    }\n",
       "\n",
       "    .dataframe thead th {\n",
       "        text-align: right;\n",
       "    }\n",
       "</style>\n",
       "<table border=\"1\" class=\"dataframe\">\n",
       "  <thead>\n",
       "    <tr style=\"text-align: right;\">\n",
       "      <th></th>\n",
       "      <th>CMPLNT_NUM</th>\n",
       "      <th>ADDR_PCT_CD</th>\n",
       "      <th>BORO_NM</th>\n",
       "      <th>RPT_DT</th>\n",
       "      <th>LAW_CAT_CD</th>\n",
       "      <th>Latitude</th>\n",
       "      <th>Longitude</th>\n",
       "    </tr>\n",
       "  </thead>\n",
       "  <tbody>\n",
       "    <tr>\n",
       "      <th>0</th>\n",
       "      <td>651421035</td>\n",
       "      <td>41.0</td>\n",
       "      <td>BRONX</td>\n",
       "      <td>11/29/2018</td>\n",
       "      <td>MISDEMEANOR</td>\n",
       "      <td>NaN</td>\n",
       "      <td>NaN</td>\n",
       "    </tr>\n",
       "    <tr>\n",
       "      <th>1</th>\n",
       "      <td>149013323</td>\n",
       "      <td>14.0</td>\n",
       "      <td>MANHATTAN</td>\n",
       "      <td>12/31/2018</td>\n",
       "      <td>FELONY</td>\n",
       "      <td>40.756044</td>\n",
       "      <td>-73.986950</td>\n",
       "    </tr>\n",
       "    <tr>\n",
       "      <th>2</th>\n",
       "      <td>642981531</td>\n",
       "      <td>73.0</td>\n",
       "      <td>BROOKLYN</td>\n",
       "      <td>12/31/2018</td>\n",
       "      <td>MISDEMEANOR</td>\n",
       "      <td>40.675146</td>\n",
       "      <td>-73.918003</td>\n",
       "    </tr>\n",
       "    <tr>\n",
       "      <th>3</th>\n",
       "      <td>429685363</td>\n",
       "      <td>67.0</td>\n",
       "      <td>BROOKLYN</td>\n",
       "      <td>12/31/2018</td>\n",
       "      <td>MISDEMEANOR</td>\n",
       "      <td>40.633016</td>\n",
       "      <td>-73.944756</td>\n",
       "    </tr>\n",
       "    <tr>\n",
       "      <th>4</th>\n",
       "      <td>290330841</td>\n",
       "      <td>5.0</td>\n",
       "      <td>MANHATTAN</td>\n",
       "      <td>12/31/2018</td>\n",
       "      <td>MISDEMEANOR</td>\n",
       "      <td>40.721512</td>\n",
       "      <td>-73.993096</td>\n",
       "    </tr>\n",
       "  </tbody>\n",
       "</table>\n",
       "</div>"
      ],
      "text/plain": [
       "   CMPLNT_NUM  ADDR_PCT_CD    BORO_NM      RPT_DT   LAW_CAT_CD   Latitude  \\\n",
       "0   651421035         41.0      BRONX  11/29/2018  MISDEMEANOR        NaN   \n",
       "1   149013323         14.0  MANHATTAN  12/31/2018       FELONY  40.756044   \n",
       "2   642981531         73.0   BROOKLYN  12/31/2018  MISDEMEANOR  40.675146   \n",
       "3   429685363         67.0   BROOKLYN  12/31/2018  MISDEMEANOR  40.633016   \n",
       "4   290330841          5.0  MANHATTAN  12/31/2018  MISDEMEANOR  40.721512   \n",
       "\n",
       "   Longitude  \n",
       "0        NaN  \n",
       "1 -73.986950  \n",
       "2 -73.918003  \n",
       "3 -73.944756  \n",
       "4 -73.993096  "
      ]
     },
     "execution_count": 86,
     "metadata": {},
     "output_type": "execute_result"
    }
   ],
   "source": [
    "crime1 = crime[['CMPLNT_NUM', 'ADDR_PCT_CD',\n",
    "                'BORO_NM', 'RPT_DT', 'LAW_CAT_CD','Latitude', 'Longitude']]\n",
    "crime1.head()"
   ]
  },
  {
   "cell_type": "code",
   "execution_count": 87,
   "metadata": {
    "ExecuteTime": {
     "end_time": "2019-05-05T00:26:59.817589Z",
     "start_time": "2019-05-05T00:26:59.813230Z"
    }
   },
   "outputs": [
    {
     "data": {
      "text/plain": [
       "(464065, 7)"
      ]
     },
     "execution_count": 87,
     "metadata": {},
     "output_type": "execute_result"
    }
   ],
   "source": [
    "crime1.shape"
   ]
  },
  {
   "cell_type": "code",
   "execution_count": 88,
   "metadata": {
    "ExecuteTime": {
     "end_time": "2019-05-05T00:27:00.190999Z",
     "start_time": "2019-05-05T00:27:00.054084Z"
    }
   },
   "outputs": [
    {
     "data": {
      "text/plain": [
       "(463729, 7)"
      ]
     },
     "execution_count": 88,
     "metadata": {},
     "output_type": "execute_result"
    }
   ],
   "source": [
    "crime1 = crime1.dropna()\n",
    "crime1.shape"
   ]
  },
  {
   "cell_type": "code",
   "execution_count": 90,
   "metadata": {
    "ExecuteTime": {
     "end_time": "2019-05-05T00:28:23.276240Z",
     "start_time": "2019-05-05T00:28:14.741503Z"
    }
   },
   "outputs": [],
   "source": [
    "\n",
    "from geopandas.tools import sjoin\n",
    "import geopandas as gpd\n",
    "import shapely\n",
    "from shapely.geometry import LineString, Point\n",
    "from fiona.crs import from_epsg\n",
    "# crime1['Lat_Lon'] = pd.to_numeric(crime1['Lat_Lon'],errors='coerce')\n",
    "crime1['lonlat']=list(zip(crime1.Longitude,crime1.Latitude))\n",
    "crime1['geometry']=crime1[['lonlat']].applymap(lambda x:shapely.geometry.Point(x))"
   ]
  },
  {
   "cell_type": "code",
   "execution_count": 104,
   "metadata": {
    "ExecuteTime": {
     "end_time": "2019-05-05T00:41:56.194732Z",
     "start_time": "2019-05-05T00:41:56.177792Z"
    }
   },
   "outputs": [
    {
     "data": {
      "text/html": [
       "<div>\n",
       "<style scoped>\n",
       "    .dataframe tbody tr th:only-of-type {\n",
       "        vertical-align: middle;\n",
       "    }\n",
       "\n",
       "    .dataframe tbody tr th {\n",
       "        vertical-align: top;\n",
       "    }\n",
       "\n",
       "    .dataframe thead th {\n",
       "        text-align: right;\n",
       "    }\n",
       "</style>\n",
       "<table border=\"1\" class=\"dataframe\">\n",
       "  <thead>\n",
       "    <tr style=\"text-align: right;\">\n",
       "      <th></th>\n",
       "      <th>LAW_CAT_CD</th>\n",
       "      <th>geometry</th>\n",
       "    </tr>\n",
       "  </thead>\n",
       "  <tbody>\n",
       "    <tr>\n",
       "      <th>1</th>\n",
       "      <td>FELONY</td>\n",
       "      <td>POINT (-73.98694954399997 40.75604353500006)</td>\n",
       "    </tr>\n",
       "    <tr>\n",
       "      <th>2</th>\n",
       "      <td>MISDEMEANOR</td>\n",
       "      <td>POINT (-73.91800323399997 40.67514616200003)</td>\n",
       "    </tr>\n",
       "    <tr>\n",
       "      <th>3</th>\n",
       "      <td>MISDEMEANOR</td>\n",
       "      <td>POINT (-73.94475559899995 40.63301598000004)</td>\n",
       "    </tr>\n",
       "    <tr>\n",
       "      <th>4</th>\n",
       "      <td>MISDEMEANOR</td>\n",
       "      <td>POINT (-73.99309646799998 40.72151233500005)</td>\n",
       "    </tr>\n",
       "    <tr>\n",
       "      <th>5</th>\n",
       "      <td>MISDEMEANOR</td>\n",
       "      <td>POINT (-73.90934005599996 40.85290843100006)</td>\n",
       "    </tr>\n",
       "  </tbody>\n",
       "</table>\n",
       "</div>"
      ],
      "text/plain": [
       "    LAW_CAT_CD                                      geometry\n",
       "1       FELONY  POINT (-73.98694954399997 40.75604353500006)\n",
       "2  MISDEMEANOR  POINT (-73.91800323399997 40.67514616200003)\n",
       "3  MISDEMEANOR  POINT (-73.94475559899995 40.63301598000004)\n",
       "4  MISDEMEANOR  POINT (-73.99309646799998 40.72151233500005)\n",
       "5  MISDEMEANOR  POINT (-73.90934005599996 40.85290843100006)"
      ]
     },
     "execution_count": 104,
     "metadata": {},
     "output_type": "execute_result"
    }
   ],
   "source": [
    "crime1 = crime1[['LAW_CAT_CD', 'geometry']]\n",
    "crime1.head()"
   ]
  },
  {
   "cell_type": "code",
   "execution_count": 105,
   "metadata": {
    "ExecuteTime": {
     "end_time": "2019-05-05T00:41:56.746536Z",
     "start_time": "2019-05-05T00:41:56.742949Z"
    }
   },
   "outputs": [
    {
     "data": {
      "text/plain": [
       "(463729, 2)"
      ]
     },
     "execution_count": 105,
     "metadata": {},
     "output_type": "execute_result"
    }
   ],
   "source": [
    "crime1.shape"
   ]
  },
  {
   "cell_type": "code",
   "execution_count": 106,
   "metadata": {
    "ExecuteTime": {
     "end_time": "2019-05-05T00:41:58.615834Z",
     "start_time": "2019-05-05T00:41:58.560156Z"
    }
   },
   "outputs": [
    {
     "data": {
      "text/html": [
       "<div>\n",
       "<style scoped>\n",
       "    .dataframe tbody tr th:only-of-type {\n",
       "        vertical-align: middle;\n",
       "    }\n",
       "\n",
       "    .dataframe tbody tr th {\n",
       "        vertical-align: top;\n",
       "    }\n",
       "\n",
       "    .dataframe thead th {\n",
       "        text-align: right;\n",
       "    }\n",
       "</style>\n",
       "<table border=\"1\" class=\"dataframe\">\n",
       "  <thead>\n",
       "    <tr style=\"text-align: right;\">\n",
       "      <th></th>\n",
       "      <th>values</th>\n",
       "      <th>LAW_CAT_CD</th>\n",
       "    </tr>\n",
       "  </thead>\n",
       "  <tbody>\n",
       "    <tr>\n",
       "      <th>0</th>\n",
       "      <td>MISDEMEANOR</td>\n",
       "      <td>251518</td>\n",
       "    </tr>\n",
       "    <tr>\n",
       "      <th>1</th>\n",
       "      <td>FELONY</td>\n",
       "      <td>141084</td>\n",
       "    </tr>\n",
       "    <tr>\n",
       "      <th>2</th>\n",
       "      <td>VIOLATION</td>\n",
       "      <td>71127</td>\n",
       "    </tr>\n",
       "  </tbody>\n",
       "</table>\n",
       "</div>"
      ],
      "text/plain": [
       "        values  LAW_CAT_CD\n",
       "0  MISDEMEANOR      251518\n",
       "1       FELONY      141084\n",
       "2    VIOLATION       71127"
      ]
     },
     "execution_count": 106,
     "metadata": {},
     "output_type": "execute_result"
    }
   ],
   "source": [
    "crime_count = crime1['LAW_CAT_CD'].value_counts().to_frame().reset_index().rename(columns={'index':'values', 'values':'count'})\n",
    "crime_count"
   ]
  },
  {
   "cell_type": "code",
   "execution_count": 110,
   "metadata": {
    "ExecuteTime": {
     "end_time": "2019-05-05T00:47:43.597810Z",
     "start_time": "2019-05-05T00:47:43.590220Z"
    }
   },
   "outputs": [
    {
     "data": {
      "text/html": [
       "<div>\n",
       "<style scoped>\n",
       "    .dataframe tbody tr th:only-of-type {\n",
       "        vertical-align: middle;\n",
       "    }\n",
       "\n",
       "    .dataframe tbody tr th {\n",
       "        vertical-align: top;\n",
       "    }\n",
       "\n",
       "    .dataframe thead th {\n",
       "        text-align: right;\n",
       "    }\n",
       "</style>\n",
       "<table border=\"1\" class=\"dataframe\">\n",
       "  <thead>\n",
       "    <tr style=\"text-align: right;\">\n",
       "      <th></th>\n",
       "      <th>LAW_CAT_CD</th>\n",
       "      <th>geometry</th>\n",
       "    </tr>\n",
       "  </thead>\n",
       "  <tbody>\n",
       "    <tr>\n",
       "      <th>1</th>\n",
       "      <td>FELONY</td>\n",
       "      <td>POINT (-73.98694954399997 40.75604353500006)</td>\n",
       "    </tr>\n",
       "    <tr>\n",
       "      <th>2</th>\n",
       "      <td>MISDEMEANOR</td>\n",
       "      <td>POINT (-73.91800323399997 40.67514616200003)</td>\n",
       "    </tr>\n",
       "    <tr>\n",
       "      <th>3</th>\n",
       "      <td>MISDEMEANOR</td>\n",
       "      <td>POINT (-73.94475559899995 40.63301598000004)</td>\n",
       "    </tr>\n",
       "    <tr>\n",
       "      <th>4</th>\n",
       "      <td>MISDEMEANOR</td>\n",
       "      <td>POINT (-73.99309646799998 40.72151233500005)</td>\n",
       "    </tr>\n",
       "    <tr>\n",
       "      <th>5</th>\n",
       "      <td>MISDEMEANOR</td>\n",
       "      <td>POINT (-73.90934005599996 40.85290843100006)</td>\n",
       "    </tr>\n",
       "  </tbody>\n",
       "</table>\n",
       "</div>"
      ],
      "text/plain": [
       "    LAW_CAT_CD                                      geometry\n",
       "1       FELONY  POINT (-73.98694954399997 40.75604353500006)\n",
       "2  MISDEMEANOR  POINT (-73.91800323399997 40.67514616200003)\n",
       "3  MISDEMEANOR  POINT (-73.94475559899995 40.63301598000004)\n",
       "4  MISDEMEANOR  POINT (-73.99309646799998 40.72151233500005)\n",
       "5  MISDEMEANOR  POINT (-73.90934005599996 40.85290843100006)"
      ]
     },
     "execution_count": 110,
     "metadata": {},
     "output_type": "execute_result"
    }
   ],
   "source": [
    "\n",
    "crime1_gpd = gpd.GeoDataFrame(crime1)\n",
    "crime1_gpd.head()"
   ]
  },
  {
   "cell_type": "code",
   "execution_count": 111,
   "metadata": {
    "ExecuteTime": {
     "end_time": "2019-05-05T00:47:44.286877Z",
     "start_time": "2019-05-05T00:47:44.271114Z"
    }
   },
   "outputs": [
    {
     "data": {
      "text/html": [
       "<div>\n",
       "<style scoped>\n",
       "    .dataframe tbody tr th:only-of-type {\n",
       "        vertical-align: middle;\n",
       "    }\n",
       "\n",
       "    .dataframe tbody tr th {\n",
       "        vertical-align: top;\n",
       "    }\n",
       "\n",
       "    .dataframe thead th {\n",
       "        text-align: right;\n",
       "    }\n",
       "</style>\n",
       "<table border=\"1\" class=\"dataframe\">\n",
       "  <thead>\n",
       "    <tr style=\"text-align: right;\">\n",
       "      <th></th>\n",
       "      <th>boro_code</th>\n",
       "      <th>boro_ct201</th>\n",
       "      <th>boro_name</th>\n",
       "      <th>cdeligibil</th>\n",
       "      <th>ct2010</th>\n",
       "      <th>ctlabel</th>\n",
       "      <th>ntacode</th>\n",
       "      <th>ntaname</th>\n",
       "      <th>puma</th>\n",
       "      <th>shape_area</th>\n",
       "      <th>shape_leng</th>\n",
       "      <th>geometry</th>\n",
       "    </tr>\n",
       "  </thead>\n",
       "  <tbody>\n",
       "    <tr>\n",
       "      <th>1</th>\n",
       "      <td>1</td>\n",
       "      <td>1009800</td>\n",
       "      <td>Manhattan</td>\n",
       "      <td>I</td>\n",
       "      <td>009800</td>\n",
       "      <td>98</td>\n",
       "      <td>MN19</td>\n",
       "      <td>Turtle Bay-East Midtown</td>\n",
       "      <td>3808</td>\n",
       "      <td>1.906016e+06</td>\n",
       "      <td>5534.199811</td>\n",
       "      <td>POLYGON ((-73.96432543478758 40.75638153099091...</td>\n",
       "    </tr>\n",
       "    <tr>\n",
       "      <th>2</th>\n",
       "      <td>1</td>\n",
       "      <td>1010000</td>\n",
       "      <td>Manhattan</td>\n",
       "      <td>I</td>\n",
       "      <td>010000</td>\n",
       "      <td>100</td>\n",
       "      <td>MN19</td>\n",
       "      <td>Turtle Bay-East Midtown</td>\n",
       "      <td>3808</td>\n",
       "      <td>1.860938e+06</td>\n",
       "      <td>5692.168737</td>\n",
       "      <td>POLYGON ((-73.96802436915851 40.75957814005282...</td>\n",
       "    </tr>\n",
       "    <tr>\n",
       "      <th>3</th>\n",
       "      <td>1</td>\n",
       "      <td>1010200</td>\n",
       "      <td>Manhattan</td>\n",
       "      <td>I</td>\n",
       "      <td>010200</td>\n",
       "      <td>102</td>\n",
       "      <td>MN17</td>\n",
       "      <td>Midtown-Midtown South</td>\n",
       "      <td>3807</td>\n",
       "      <td>1.860993e+06</td>\n",
       "      <td>5687.802439</td>\n",
       "      <td>POLYGON ((-73.97124277307127 40.76093641847906...</td>\n",
       "    </tr>\n",
       "    <tr>\n",
       "      <th>4</th>\n",
       "      <td>1</td>\n",
       "      <td>1010400</td>\n",
       "      <td>Manhattan</td>\n",
       "      <td>I</td>\n",
       "      <td>010400</td>\n",
       "      <td>104</td>\n",
       "      <td>MN17</td>\n",
       "      <td>Midtown-Midtown South</td>\n",
       "      <td>3807</td>\n",
       "      <td>1.864600e+06</td>\n",
       "      <td>5693.036367</td>\n",
       "      <td>POLYGON ((-73.97445730550224 40.76229308352487...</td>\n",
       "    </tr>\n",
       "    <tr>\n",
       "      <th>5</th>\n",
       "      <td>1</td>\n",
       "      <td>1011300</td>\n",
       "      <td>Manhattan</td>\n",
       "      <td>I</td>\n",
       "      <td>011300</td>\n",
       "      <td>113</td>\n",
       "      <td>MN17</td>\n",
       "      <td>Midtown-Midtown South</td>\n",
       "      <td>3807</td>\n",
       "      <td>1.890907e+06</td>\n",
       "      <td>5699.860641</td>\n",
       "      <td>POLYGON ((-73.98411754823195 40.7548420534646,...</td>\n",
       "    </tr>\n",
       "  </tbody>\n",
       "</table>\n",
       "</div>"
      ],
      "text/plain": [
       "  boro_code boro_ct201  boro_name cdeligibil  ct2010 ctlabel ntacode  \\\n",
       "1         1    1009800  Manhattan          I  009800      98    MN19   \n",
       "2         1    1010000  Manhattan          I  010000     100    MN19   \n",
       "3         1    1010200  Manhattan          I  010200     102    MN17   \n",
       "4         1    1010400  Manhattan          I  010400     104    MN17   \n",
       "5         1    1011300  Manhattan          I  011300     113    MN17   \n",
       "\n",
       "                   ntaname  puma    shape_area   shape_leng  \\\n",
       "1  Turtle Bay-East Midtown  3808  1.906016e+06  5534.199811   \n",
       "2  Turtle Bay-East Midtown  3808  1.860938e+06  5692.168737   \n",
       "3    Midtown-Midtown South  3807  1.860993e+06  5687.802439   \n",
       "4    Midtown-Midtown South  3807  1.864600e+06  5693.036367   \n",
       "5    Midtown-Midtown South  3807  1.890907e+06  5699.860641   \n",
       "\n",
       "                                            geometry  \n",
       "1  POLYGON ((-73.96432543478758 40.75638153099091...  \n",
       "2  POLYGON ((-73.96802436915851 40.75957814005282...  \n",
       "3  POLYGON ((-73.97124277307127 40.76093641847906...  \n",
       "4  POLYGON ((-73.97445730550224 40.76229308352487...  \n",
       "5  POLYGON ((-73.98411754823195 40.7548420534646,...  "
      ]
     },
     "execution_count": 111,
     "metadata": {},
     "output_type": "execute_result"
    }
   ],
   "source": [
    "CensusTracts_gpd = gpd.GeoDataFrame(CensusTracts)\n",
    "CensusTracts_gpd.head()"
   ]
  },
  {
   "cell_type": "code",
   "execution_count": 112,
   "metadata": {
    "ExecuteTime": {
     "end_time": "2019-05-05T00:50:12.741947Z",
     "start_time": "2019-05-05T00:50:01.618325Z"
    }
   },
   "outputs": [
    {
     "data": {
      "text/html": [
       "<div>\n",
       "<style scoped>\n",
       "    .dataframe tbody tr th:only-of-type {\n",
       "        vertical-align: middle;\n",
       "    }\n",
       "\n",
       "    .dataframe tbody tr th {\n",
       "        vertical-align: top;\n",
       "    }\n",
       "\n",
       "    .dataframe thead th {\n",
       "        text-align: right;\n",
       "    }\n",
       "</style>\n",
       "<table border=\"1\" class=\"dataframe\">\n",
       "  <thead>\n",
       "    <tr style=\"text-align: right;\">\n",
       "      <th></th>\n",
       "      <th>boro_code</th>\n",
       "      <th>boro_ct201</th>\n",
       "      <th>boro_name</th>\n",
       "      <th>cdeligibil</th>\n",
       "      <th>ct2010</th>\n",
       "      <th>ctlabel</th>\n",
       "      <th>ntacode</th>\n",
       "      <th>ntaname</th>\n",
       "      <th>puma</th>\n",
       "      <th>shape_area</th>\n",
       "      <th>shape_leng</th>\n",
       "      <th>geometry</th>\n",
       "      <th>index_right</th>\n",
       "      <th>LAW_CAT_CD</th>\n",
       "    </tr>\n",
       "  </thead>\n",
       "  <tbody>\n",
       "    <tr>\n",
       "      <th>1</th>\n",
       "      <td>1</td>\n",
       "      <td>1009800</td>\n",
       "      <td>Manhattan</td>\n",
       "      <td>I</td>\n",
       "      <td>009800</td>\n",
       "      <td>98</td>\n",
       "      <td>MN19</td>\n",
       "      <td>Turtle Bay-East Midtown</td>\n",
       "      <td>3808</td>\n",
       "      <td>1.906016e+06</td>\n",
       "      <td>5534.199811</td>\n",
       "      <td>POLYGON ((-73.96432543478758 40.75638153099091...</td>\n",
       "      <td>243717</td>\n",
       "      <td>MISDEMEANOR</td>\n",
       "    </tr>\n",
       "    <tr>\n",
       "      <th>1</th>\n",
       "      <td>1</td>\n",
       "      <td>1009800</td>\n",
       "      <td>Manhattan</td>\n",
       "      <td>I</td>\n",
       "      <td>009800</td>\n",
       "      <td>98</td>\n",
       "      <td>MN19</td>\n",
       "      <td>Turtle Bay-East Midtown</td>\n",
       "      <td>3808</td>\n",
       "      <td>1.906016e+06</td>\n",
       "      <td>5534.199811</td>\n",
       "      <td>POLYGON ((-73.96432543478758 40.75638153099091...</td>\n",
       "      <td>313786</td>\n",
       "      <td>MISDEMEANOR</td>\n",
       "    </tr>\n",
       "    <tr>\n",
       "      <th>1</th>\n",
       "      <td>1</td>\n",
       "      <td>1009800</td>\n",
       "      <td>Manhattan</td>\n",
       "      <td>I</td>\n",
       "      <td>009800</td>\n",
       "      <td>98</td>\n",
       "      <td>MN19</td>\n",
       "      <td>Turtle Bay-East Midtown</td>\n",
       "      <td>3808</td>\n",
       "      <td>1.906016e+06</td>\n",
       "      <td>5534.199811</td>\n",
       "      <td>POLYGON ((-73.96432543478758 40.75638153099091...</td>\n",
       "      <td>256097</td>\n",
       "      <td>FELONY</td>\n",
       "    </tr>\n",
       "    <tr>\n",
       "      <th>1</th>\n",
       "      <td>1</td>\n",
       "      <td>1009800</td>\n",
       "      <td>Manhattan</td>\n",
       "      <td>I</td>\n",
       "      <td>009800</td>\n",
       "      <td>98</td>\n",
       "      <td>MN19</td>\n",
       "      <td>Turtle Bay-East Midtown</td>\n",
       "      <td>3808</td>\n",
       "      <td>1.906016e+06</td>\n",
       "      <td>5534.199811</td>\n",
       "      <td>POLYGON ((-73.96432543478758 40.75638153099091...</td>\n",
       "      <td>417771</td>\n",
       "      <td>MISDEMEANOR</td>\n",
       "    </tr>\n",
       "    <tr>\n",
       "      <th>1</th>\n",
       "      <td>1</td>\n",
       "      <td>1009800</td>\n",
       "      <td>Manhattan</td>\n",
       "      <td>I</td>\n",
       "      <td>009800</td>\n",
       "      <td>98</td>\n",
       "      <td>MN19</td>\n",
       "      <td>Turtle Bay-East Midtown</td>\n",
       "      <td>3808</td>\n",
       "      <td>1.906016e+06</td>\n",
       "      <td>5534.199811</td>\n",
       "      <td>POLYGON ((-73.96432543478758 40.75638153099091...</td>\n",
       "      <td>397734</td>\n",
       "      <td>MISDEMEANOR</td>\n",
       "    </tr>\n",
       "  </tbody>\n",
       "</table>\n",
       "</div>"
      ],
      "text/plain": [
       "  boro_code boro_ct201  boro_name cdeligibil  ct2010 ctlabel ntacode  \\\n",
       "1         1    1009800  Manhattan          I  009800      98    MN19   \n",
       "1         1    1009800  Manhattan          I  009800      98    MN19   \n",
       "1         1    1009800  Manhattan          I  009800      98    MN19   \n",
       "1         1    1009800  Manhattan          I  009800      98    MN19   \n",
       "1         1    1009800  Manhattan          I  009800      98    MN19   \n",
       "\n",
       "                   ntaname  puma    shape_area   shape_leng  \\\n",
       "1  Turtle Bay-East Midtown  3808  1.906016e+06  5534.199811   \n",
       "1  Turtle Bay-East Midtown  3808  1.906016e+06  5534.199811   \n",
       "1  Turtle Bay-East Midtown  3808  1.906016e+06  5534.199811   \n",
       "1  Turtle Bay-East Midtown  3808  1.906016e+06  5534.199811   \n",
       "1  Turtle Bay-East Midtown  3808  1.906016e+06  5534.199811   \n",
       "\n",
       "                                            geometry  index_right   LAW_CAT_CD  \n",
       "1  POLYGON ((-73.96432543478758 40.75638153099091...       243717  MISDEMEANOR  \n",
       "1  POLYGON ((-73.96432543478758 40.75638153099091...       313786  MISDEMEANOR  \n",
       "1  POLYGON ((-73.96432543478758 40.75638153099091...       256097       FELONY  \n",
       "1  POLYGON ((-73.96432543478758 40.75638153099091...       417771  MISDEMEANOR  \n",
       "1  POLYGON ((-73.96432543478758 40.75638153099091...       397734  MISDEMEANOR  "
      ]
     },
     "execution_count": 112,
     "metadata": {},
     "output_type": "execute_result"
    }
   ],
   "source": [
    "crime_ct = gpd.sjoin(CensusTracts_gpd, crime1_gpd)\n",
    "crime_ct.head()"
   ]
  },
  {
   "cell_type": "code",
   "execution_count": 113,
   "metadata": {
    "ExecuteTime": {
     "end_time": "2019-05-05T01:04:35.843032Z",
     "start_time": "2019-05-05T01:04:35.839101Z"
    }
   },
   "outputs": [
    {
     "data": {
      "text/plain": [
       "(115242, 14)"
      ]
     },
     "execution_count": 113,
     "metadata": {},
     "output_type": "execute_result"
    }
   ],
   "source": [
    "crime_ct.shape"
   ]
  },
  {
   "cell_type": "code",
   "execution_count": 117,
   "metadata": {
    "ExecuteTime": {
     "end_time": "2019-05-05T01:10:54.020024Z",
     "start_time": "2019-05-05T01:10:53.925262Z"
    }
   },
   "outputs": [
    {
     "data": {
      "text/html": [
       "<div>\n",
       "<style scoped>\n",
       "    .dataframe tbody tr th:only-of-type {\n",
       "        vertical-align: middle;\n",
       "    }\n",
       "\n",
       "    .dataframe tbody tr th {\n",
       "        vertical-align: top;\n",
       "    }\n",
       "\n",
       "    .dataframe thead tr th {\n",
       "        text-align: left;\n",
       "    }\n",
       "\n",
       "    .dataframe thead tr:last-of-type th {\n",
       "        text-align: right;\n",
       "    }\n",
       "</style>\n",
       "<table border=\"1\" class=\"dataframe\">\n",
       "  <thead>\n",
       "    <tr>\n",
       "      <th></th>\n",
       "      <th></th>\n",
       "      <th>boro_code</th>\n",
       "      <th>boro_name</th>\n",
       "      <th>cdeligibil</th>\n",
       "      <th>ct2010</th>\n",
       "      <th>ctlabel</th>\n",
       "      <th>ntacode</th>\n",
       "      <th>ntaname</th>\n",
       "      <th>puma</th>\n",
       "      <th>shape_area</th>\n",
       "      <th>shape_leng</th>\n",
       "      <th>geometry</th>\n",
       "      <th>index_right</th>\n",
       "    </tr>\n",
       "    <tr>\n",
       "      <th></th>\n",
       "      <th></th>\n",
       "      <th>count</th>\n",
       "      <th>count</th>\n",
       "      <th>count</th>\n",
       "      <th>count</th>\n",
       "      <th>count</th>\n",
       "      <th>count</th>\n",
       "      <th>count</th>\n",
       "      <th>count</th>\n",
       "      <th>count</th>\n",
       "      <th>count</th>\n",
       "      <th>count</th>\n",
       "      <th>count</th>\n",
       "    </tr>\n",
       "    <tr>\n",
       "      <th>boro_ct201</th>\n",
       "      <th>LAW_CAT_CD</th>\n",
       "      <th></th>\n",
       "      <th></th>\n",
       "      <th></th>\n",
       "      <th></th>\n",
       "      <th></th>\n",
       "      <th></th>\n",
       "      <th></th>\n",
       "      <th></th>\n",
       "      <th></th>\n",
       "      <th></th>\n",
       "      <th></th>\n",
       "      <th></th>\n",
       "    </tr>\n",
       "  </thead>\n",
       "  <tbody>\n",
       "    <tr>\n",
       "      <th rowspan=\"3\" valign=\"top\">1000201</th>\n",
       "      <th>FELONY</th>\n",
       "      <td>54</td>\n",
       "      <td>54</td>\n",
       "      <td>54</td>\n",
       "      <td>54</td>\n",
       "      <td>54</td>\n",
       "      <td>54</td>\n",
       "      <td>54</td>\n",
       "      <td>54</td>\n",
       "      <td>54</td>\n",
       "      <td>54</td>\n",
       "      <td>54</td>\n",
       "      <td>54</td>\n",
       "    </tr>\n",
       "    <tr>\n",
       "      <th>MISDEMEANOR</th>\n",
       "      <td>90</td>\n",
       "      <td>90</td>\n",
       "      <td>90</td>\n",
       "      <td>90</td>\n",
       "      <td>90</td>\n",
       "      <td>90</td>\n",
       "      <td>90</td>\n",
       "      <td>90</td>\n",
       "      <td>90</td>\n",
       "      <td>90</td>\n",
       "      <td>90</td>\n",
       "      <td>90</td>\n",
       "    </tr>\n",
       "    <tr>\n",
       "      <th>VIOLATION</th>\n",
       "      <td>21</td>\n",
       "      <td>21</td>\n",
       "      <td>21</td>\n",
       "      <td>21</td>\n",
       "      <td>21</td>\n",
       "      <td>21</td>\n",
       "      <td>21</td>\n",
       "      <td>21</td>\n",
       "      <td>21</td>\n",
       "      <td>21</td>\n",
       "      <td>21</td>\n",
       "      <td>21</td>\n",
       "    </tr>\n",
       "    <tr>\n",
       "      <th rowspan=\"2\" valign=\"top\">1000202</th>\n",
       "      <th>FELONY</th>\n",
       "      <td>68</td>\n",
       "      <td>68</td>\n",
       "      <td>68</td>\n",
       "      <td>68</td>\n",
       "      <td>68</td>\n",
       "      <td>68</td>\n",
       "      <td>68</td>\n",
       "      <td>68</td>\n",
       "      <td>68</td>\n",
       "      <td>68</td>\n",
       "      <td>68</td>\n",
       "      <td>68</td>\n",
       "    </tr>\n",
       "    <tr>\n",
       "      <th>MISDEMEANOR</th>\n",
       "      <td>155</td>\n",
       "      <td>155</td>\n",
       "      <td>155</td>\n",
       "      <td>155</td>\n",
       "      <td>155</td>\n",
       "      <td>155</td>\n",
       "      <td>155</td>\n",
       "      <td>155</td>\n",
       "      <td>155</td>\n",
       "      <td>155</td>\n",
       "      <td>155</td>\n",
       "      <td>155</td>\n",
       "    </tr>\n",
       "  </tbody>\n",
       "</table>\n",
       "</div>"
      ],
      "text/plain": [
       "                       boro_code boro_name cdeligibil ct2010 ctlabel ntacode  \\\n",
       "                           count     count      count  count   count   count   \n",
       "boro_ct201 LAW_CAT_CD                                                          \n",
       "1000201    FELONY             54        54         54     54      54      54   \n",
       "           MISDEMEANOR        90        90         90     90      90      90   \n",
       "           VIOLATION          21        21         21     21      21      21   \n",
       "1000202    FELONY             68        68         68     68      68      68   \n",
       "           MISDEMEANOR       155       155        155    155     155     155   \n",
       "\n",
       "                       ntaname  puma shape_area shape_leng geometry  \\\n",
       "                         count count      count      count    count   \n",
       "boro_ct201 LAW_CAT_CD                                                 \n",
       "1000201    FELONY           54    54         54         54       54   \n",
       "           MISDEMEANOR      90    90         90         90       90   \n",
       "           VIOLATION        21    21         21         21       21   \n",
       "1000202    FELONY           68    68         68         68       68   \n",
       "           MISDEMEANOR     155   155        155        155      155   \n",
       "\n",
       "                       index_right  \n",
       "                             count  \n",
       "boro_ct201 LAW_CAT_CD               \n",
       "1000201    FELONY               54  \n",
       "           MISDEMEANOR          90  \n",
       "           VIOLATION            21  \n",
       "1000202    FELONY               68  \n",
       "           MISDEMEANOR         155  "
      ]
     },
     "execution_count": 117,
     "metadata": {},
     "output_type": "execute_result"
    }
   ],
   "source": [
    "crime_ct1 = crime_ct.groupby(['boro_ct201', 'LAW_CAT_CD']).agg(['count'])\n",
    "crime_ct1.head()"
   ]
  },
  {
   "cell_type": "code",
   "execution_count": 132,
   "metadata": {
    "ExecuteTime": {
     "end_time": "2019-05-05T01:48:23.027662Z",
     "start_time": "2019-05-05T01:48:23.006720Z"
    }
   },
   "outputs": [
    {
     "data": {
      "text/html": [
       "<div>\n",
       "<style scoped>\n",
       "    .dataframe tbody tr th:only-of-type {\n",
       "        vertical-align: middle;\n",
       "    }\n",
       "\n",
       "    .dataframe tbody tr th {\n",
       "        vertical-align: top;\n",
       "    }\n",
       "\n",
       "    .dataframe thead th {\n",
       "        text-align: right;\n",
       "    }\n",
       "</style>\n",
       "<table border=\"1\" class=\"dataframe\">\n",
       "  <thead>\n",
       "    <tr style=\"text-align: right;\">\n",
       "      <th></th>\n",
       "      <th>boro_ct201</th>\n",
       "      <th>LAW_CAT_CD</th>\n",
       "      <th>counts</th>\n",
       "    </tr>\n",
       "  </thead>\n",
       "  <tbody>\n",
       "    <tr>\n",
       "      <th>0</th>\n",
       "      <td>1000201</td>\n",
       "      <td>FELONY</td>\n",
       "      <td>54</td>\n",
       "    </tr>\n",
       "    <tr>\n",
       "      <th>1</th>\n",
       "      <td>1000201</td>\n",
       "      <td>MISDEMEANOR</td>\n",
       "      <td>90</td>\n",
       "    </tr>\n",
       "    <tr>\n",
       "      <th>2</th>\n",
       "      <td>1000201</td>\n",
       "      <td>VIOLATION</td>\n",
       "      <td>21</td>\n",
       "    </tr>\n",
       "    <tr>\n",
       "      <th>3</th>\n",
       "      <td>1000202</td>\n",
       "      <td>FELONY</td>\n",
       "      <td>68</td>\n",
       "    </tr>\n",
       "    <tr>\n",
       "      <th>4</th>\n",
       "      <td>1000202</td>\n",
       "      <td>MISDEMEANOR</td>\n",
       "      <td>155</td>\n",
       "    </tr>\n",
       "  </tbody>\n",
       "</table>\n",
       "</div>"
      ],
      "text/plain": [
       "  boro_ct201   LAW_CAT_CD  counts\n",
       "0    1000201       FELONY      54\n",
       "1    1000201  MISDEMEANOR      90\n",
       "2    1000201    VIOLATION      21\n",
       "3    1000202       FELONY      68\n",
       "4    1000202  MISDEMEANOR     155"
      ]
     },
     "execution_count": 132,
     "metadata": {},
     "output_type": "execute_result"
    }
   ],
   "source": [
    "crime_ct2 = crime_ct.groupby(['boro_ct201','LAW_CAT_CD']).size().reset_index(name='counts')\n",
    "crime_ct2.head()"
   ]
  },
  {
   "cell_type": "code",
   "execution_count": 135,
   "metadata": {
    "ExecuteTime": {
     "end_time": "2019-05-05T01:56:19.991783Z",
     "start_time": "2019-05-05T01:56:19.981236Z"
    }
   },
   "outputs": [
    {
     "data": {
      "text/html": [
       "<div>\n",
       "<style scoped>\n",
       "    .dataframe tbody tr th:only-of-type {\n",
       "        vertical-align: middle;\n",
       "    }\n",
       "\n",
       "    .dataframe tbody tr th {\n",
       "        vertical-align: top;\n",
       "    }\n",
       "\n",
       "    .dataframe thead th {\n",
       "        text-align: right;\n",
       "    }\n",
       "</style>\n",
       "<table border=\"1\" class=\"dataframe\">\n",
       "  <thead>\n",
       "    <tr style=\"text-align: right;\">\n",
       "      <th>LAW_CAT_CD</th>\n",
       "      <th>FELONY</th>\n",
       "      <th>MISDEMEANOR</th>\n",
       "      <th>VIOLATION</th>\n",
       "    </tr>\n",
       "    <tr>\n",
       "      <th>boro_ct201</th>\n",
       "      <th></th>\n",
       "      <th></th>\n",
       "      <th></th>\n",
       "    </tr>\n",
       "  </thead>\n",
       "  <tbody>\n",
       "    <tr>\n",
       "      <th>1000201</th>\n",
       "      <td>54</td>\n",
       "      <td>90</td>\n",
       "      <td>21</td>\n",
       "    </tr>\n",
       "    <tr>\n",
       "      <th>1000202</th>\n",
       "      <td>68</td>\n",
       "      <td>155</td>\n",
       "      <td>51</td>\n",
       "    </tr>\n",
       "    <tr>\n",
       "      <th>1000600</th>\n",
       "      <td>173</td>\n",
       "      <td>286</td>\n",
       "      <td>57</td>\n",
       "    </tr>\n",
       "    <tr>\n",
       "      <th>1000700</th>\n",
       "      <td>99</td>\n",
       "      <td>349</td>\n",
       "      <td>56</td>\n",
       "    </tr>\n",
       "    <tr>\n",
       "      <th>1000800</th>\n",
       "      <td>117</td>\n",
       "      <td>294</td>\n",
       "      <td>88</td>\n",
       "    </tr>\n",
       "  </tbody>\n",
       "</table>\n",
       "</div>"
      ],
      "text/plain": [
       "LAW_CAT_CD  FELONY  MISDEMEANOR  VIOLATION\n",
       "boro_ct201                                \n",
       "1000201         54           90         21\n",
       "1000202         68          155         51\n",
       "1000600        173          286         57\n",
       "1000700         99          349         56\n",
       "1000800        117          294         88"
      ]
     },
     "execution_count": 135,
     "metadata": {},
     "output_type": "execute_result"
    }
   ],
   "source": [
    "crime_ct3 = crime_ct2.pivot(index = 'boro_ct201', columns = 'LAW_CAT_CD', values = 'counts')\n",
    "# df.pivot(index='date', columns='name', values='dollars')\n",
    "crime_ct3.head()"
   ]
  },
  {
   "cell_type": "code",
   "execution_count": null,
   "metadata": {},
   "outputs": [],
   "source": []
  },
  {
   "cell_type": "markdown",
   "metadata": {},
   "source": [
    "## SAT"
   ]
  },
  {
   "cell_type": "markdown",
   "metadata": {},
   "source": [
    "### SAT"
   ]
  },
  {
   "cell_type": "code",
   "execution_count": 99,
   "metadata": {
    "ExecuteTime": {
     "end_time": "2019-05-05T20:47:04.141193Z",
     "start_time": "2019-05-05T20:47:04.137861Z"
    }
   },
   "outputs": [
    {
     "name": "stdout",
     "output_type": "stream",
     "text": [
      "file in place, you can continue\n"
     ]
    }
   ],
   "source": [
    "if not os.path.isfile(\"data/sat.csv\"):\n",
    "    ! curl https://data.cityofnewyork.us/api/views/f9bf-2cp4/rows.csv?accessType=DOWNLOAD > data/sat.csv\n",
    "else:\n",
    "    print(\"file in place, you can continue\")"
   ]
  },
  {
   "cell_type": "code",
   "execution_count": 142,
   "metadata": {
    "ExecuteTime": {
     "end_time": "2019-05-05T21:05:03.845795Z",
     "start_time": "2019-05-05T21:05:03.832021Z"
    }
   },
   "outputs": [
    {
     "name": "stdout",
     "output_type": "stream",
     "text": [
      "(478, 6)\n"
     ]
    },
    {
     "data": {
      "text/html": [
       "<div>\n",
       "<style scoped>\n",
       "    .dataframe tbody tr th:only-of-type {\n",
       "        vertical-align: middle;\n",
       "    }\n",
       "\n",
       "    .dataframe tbody tr th {\n",
       "        vertical-align: top;\n",
       "    }\n",
       "\n",
       "    .dataframe thead th {\n",
       "        text-align: right;\n",
       "    }\n",
       "</style>\n",
       "<table border=\"1\" class=\"dataframe\">\n",
       "  <thead>\n",
       "    <tr style=\"text-align: right;\">\n",
       "      <th></th>\n",
       "      <th>DBN</th>\n",
       "      <th>SCHOOL NAME</th>\n",
       "      <th>Num of SAT Test Takers</th>\n",
       "      <th>SAT Critical Reading Avg. Score</th>\n",
       "      <th>SAT Math Avg. Score</th>\n",
       "      <th>SAT Writing Avg. Score</th>\n",
       "    </tr>\n",
       "  </thead>\n",
       "  <tbody>\n",
       "    <tr>\n",
       "      <th>0</th>\n",
       "      <td>01M292</td>\n",
       "      <td>HENRY STREET SCHOOL FOR INTERNATIONAL STUDIES</td>\n",
       "      <td>29</td>\n",
       "      <td>355</td>\n",
       "      <td>404</td>\n",
       "      <td>363</td>\n",
       "    </tr>\n",
       "    <tr>\n",
       "      <th>1</th>\n",
       "      <td>01M448</td>\n",
       "      <td>UNIVERSITY NEIGHBORHOOD HIGH SCHOOL</td>\n",
       "      <td>91</td>\n",
       "      <td>383</td>\n",
       "      <td>423</td>\n",
       "      <td>366</td>\n",
       "    </tr>\n",
       "    <tr>\n",
       "      <th>2</th>\n",
       "      <td>01M450</td>\n",
       "      <td>EAST SIDE COMMUNITY SCHOOL</td>\n",
       "      <td>70</td>\n",
       "      <td>377</td>\n",
       "      <td>402</td>\n",
       "      <td>370</td>\n",
       "    </tr>\n",
       "    <tr>\n",
       "      <th>3</th>\n",
       "      <td>01M458</td>\n",
       "      <td>FORSYTH SATELLITE ACADEMY</td>\n",
       "      <td>7</td>\n",
       "      <td>414</td>\n",
       "      <td>401</td>\n",
       "      <td>359</td>\n",
       "    </tr>\n",
       "    <tr>\n",
       "      <th>4</th>\n",
       "      <td>01M509</td>\n",
       "      <td>MARTA VALLE HIGH SCHOOL</td>\n",
       "      <td>44</td>\n",
       "      <td>390</td>\n",
       "      <td>433</td>\n",
       "      <td>384</td>\n",
       "    </tr>\n",
       "  </tbody>\n",
       "</table>\n",
       "</div>"
      ],
      "text/plain": [
       "      DBN                                    SCHOOL NAME  \\\n",
       "0  01M292  HENRY STREET SCHOOL FOR INTERNATIONAL STUDIES   \n",
       "1  01M448            UNIVERSITY NEIGHBORHOOD HIGH SCHOOL   \n",
       "2  01M450                     EAST SIDE COMMUNITY SCHOOL   \n",
       "3  01M458                      FORSYTH SATELLITE ACADEMY   \n",
       "4  01M509                        MARTA VALLE HIGH SCHOOL   \n",
       "\n",
       "  Num of SAT Test Takers SAT Critical Reading Avg. Score SAT Math Avg. Score  \\\n",
       "0                     29                             355                 404   \n",
       "1                     91                             383                 423   \n",
       "2                     70                             377                 402   \n",
       "3                      7                             414                 401   \n",
       "4                     44                             390                 433   \n",
       "\n",
       "  SAT Writing Avg. Score  \n",
       "0                    363  \n",
       "1                    366  \n",
       "2                    370  \n",
       "3                    359  \n",
       "4                    384  "
      ]
     },
     "execution_count": 142,
     "metadata": {},
     "output_type": "execute_result"
    }
   ],
   "source": [
    "sat = pd.read_csv(\"data/sat.csv\")\n",
    "print(sat.shape)\n",
    "sat.head()"
   ]
  },
  {
   "cell_type": "code",
   "execution_count": 143,
   "metadata": {
    "ExecuteTime": {
     "end_time": "2019-05-05T21:05:04.222304Z",
     "start_time": "2019-05-05T21:05:04.210536Z"
    }
   },
   "outputs": [
    {
     "data": {
      "text/html": [
       "<div>\n",
       "<style scoped>\n",
       "    .dataframe tbody tr th:only-of-type {\n",
       "        vertical-align: middle;\n",
       "    }\n",
       "\n",
       "    .dataframe tbody tr th {\n",
       "        vertical-align: top;\n",
       "    }\n",
       "\n",
       "    .dataframe thead th {\n",
       "        text-align: right;\n",
       "    }\n",
       "</style>\n",
       "<table border=\"1\" class=\"dataframe\">\n",
       "  <thead>\n",
       "    <tr style=\"text-align: right;\">\n",
       "      <th></th>\n",
       "      <th>DBN</th>\n",
       "      <th>SCHOOL NAME</th>\n",
       "      <th>Num of SAT Test Takers</th>\n",
       "      <th>SAT Critical Reading Avg. Score</th>\n",
       "      <th>SAT Math Avg. Score</th>\n",
       "      <th>SAT Writing Avg. Score</th>\n",
       "      <th>School_District</th>\n",
       "    </tr>\n",
       "  </thead>\n",
       "  <tbody>\n",
       "    <tr>\n",
       "      <th>0</th>\n",
       "      <td>01M292</td>\n",
       "      <td>HENRY STREET SCHOOL FOR INTERNATIONAL STUDIES</td>\n",
       "      <td>29</td>\n",
       "      <td>355</td>\n",
       "      <td>404</td>\n",
       "      <td>363</td>\n",
       "      <td>1</td>\n",
       "    </tr>\n",
       "    <tr>\n",
       "      <th>1</th>\n",
       "      <td>01M448</td>\n",
       "      <td>UNIVERSITY NEIGHBORHOOD HIGH SCHOOL</td>\n",
       "      <td>91</td>\n",
       "      <td>383</td>\n",
       "      <td>423</td>\n",
       "      <td>366</td>\n",
       "      <td>1</td>\n",
       "    </tr>\n",
       "    <tr>\n",
       "      <th>2</th>\n",
       "      <td>01M450</td>\n",
       "      <td>EAST SIDE COMMUNITY SCHOOL</td>\n",
       "      <td>70</td>\n",
       "      <td>377</td>\n",
       "      <td>402</td>\n",
       "      <td>370</td>\n",
       "      <td>1</td>\n",
       "    </tr>\n",
       "    <tr>\n",
       "      <th>3</th>\n",
       "      <td>01M458</td>\n",
       "      <td>FORSYTH SATELLITE ACADEMY</td>\n",
       "      <td>7</td>\n",
       "      <td>414</td>\n",
       "      <td>401</td>\n",
       "      <td>359</td>\n",
       "      <td>1</td>\n",
       "    </tr>\n",
       "    <tr>\n",
       "      <th>4</th>\n",
       "      <td>01M509</td>\n",
       "      <td>MARTA VALLE HIGH SCHOOL</td>\n",
       "      <td>44</td>\n",
       "      <td>390</td>\n",
       "      <td>433</td>\n",
       "      <td>384</td>\n",
       "      <td>1</td>\n",
       "    </tr>\n",
       "  </tbody>\n",
       "</table>\n",
       "</div>"
      ],
      "text/plain": [
       "      DBN                                    SCHOOL NAME  \\\n",
       "0  01M292  HENRY STREET SCHOOL FOR INTERNATIONAL STUDIES   \n",
       "1  01M448            UNIVERSITY NEIGHBORHOOD HIGH SCHOOL   \n",
       "2  01M450                     EAST SIDE COMMUNITY SCHOOL   \n",
       "3  01M458                      FORSYTH SATELLITE ACADEMY   \n",
       "4  01M509                        MARTA VALLE HIGH SCHOOL   \n",
       "\n",
       "  Num of SAT Test Takers SAT Critical Reading Avg. Score SAT Math Avg. Score  \\\n",
       "0                     29                             355                 404   \n",
       "1                     91                             383                 423   \n",
       "2                     70                             377                 402   \n",
       "3                      7                             414                 401   \n",
       "4                     44                             390                 433   \n",
       "\n",
       "  SAT Writing Avg. Score School_District  \n",
       "0                    363               1  \n",
       "1                    366               1  \n",
       "2                    370               1  \n",
       "3                    359               1  \n",
       "4                    384               1  "
      ]
     },
     "execution_count": 143,
     "metadata": {},
     "output_type": "execute_result"
    }
   ],
   "source": [
    "sat['School_District'] = sat.DBN.str[1]\n",
    "sat.head()"
   ]
  },
  {
   "cell_type": "markdown",
   "metadata": {},
   "source": [
    "### School distrct"
   ]
  },
  {
   "cell_type": "code",
   "execution_count": 144,
   "metadata": {
    "ExecuteTime": {
     "end_time": "2019-05-05T21:05:08.099720Z",
     "start_time": "2019-05-05T21:05:08.095357Z"
    }
   },
   "outputs": [
    {
     "name": "stdout",
     "output_type": "stream",
     "text": [
      "file in place, you can continue\n"
     ]
    }
   ],
   "source": [
    "if not os.path.isfile(\"data/school_distrct.zip\"):\n",
    "    url = 'https://www1.nyc.gov/assets/planning/download/zip/data-maps/open-data/nysd_19a.zip'\n",
    "    urllib.request.urlretrieve(url, \"school_distrct.zip\")\n",
    "    ! mv school_distrct.zip data\n",
    "    ! unzip -o data/school_distrct.zip -d data/school_distrct\n",
    "else:\n",
    "    print(\"file in place, you can continue\")"
   ]
  },
  {
   "cell_type": "code",
   "execution_count": 145,
   "metadata": {
    "ExecuteTime": {
     "end_time": "2019-05-05T21:05:08.399045Z",
     "start_time": "2019-05-05T21:05:08.286000Z"
    }
   },
   "outputs": [
    {
     "name": "stdout",
     "output_type": "stream",
     "text": [
      "(33, 4)\n"
     ]
    },
    {
     "data": {
      "text/html": [
       "<div>\n",
       "<style scoped>\n",
       "    .dataframe tbody tr th:only-of-type {\n",
       "        vertical-align: middle;\n",
       "    }\n",
       "\n",
       "    .dataframe tbody tr th {\n",
       "        vertical-align: top;\n",
       "    }\n",
       "\n",
       "    .dataframe thead th {\n",
       "        text-align: right;\n",
       "    }\n",
       "</style>\n",
       "<table border=\"1\" class=\"dataframe\">\n",
       "  <thead>\n",
       "    <tr style=\"text-align: right;\">\n",
       "      <th></th>\n",
       "      <th>SchoolDist</th>\n",
       "      <th>Shape_Leng</th>\n",
       "      <th>Shape_Area</th>\n",
       "      <th>geometry</th>\n",
       "    </tr>\n",
       "  </thead>\n",
       "  <tbody>\n",
       "    <tr>\n",
       "      <th>0</th>\n",
       "      <td>16</td>\n",
       "      <td>35848.904605</td>\n",
       "      <td>4.676362e+07</td>\n",
       "      <td>POLYGON ((1002796.091003418 192779.0115966797,...</td>\n",
       "    </tr>\n",
       "    <tr>\n",
       "      <th>1</th>\n",
       "      <td>32</td>\n",
       "      <td>37251.057847</td>\n",
       "      <td>5.189850e+07</td>\n",
       "      <td>POLYGON ((1008702.936035156 195569.1040039062,...</td>\n",
       "    </tr>\n",
       "    <tr>\n",
       "      <th>2</th>\n",
       "      <td>23</td>\n",
       "      <td>40317.452033</td>\n",
       "      <td>4.740069e+07</td>\n",
       "      <td>(POLYGON ((1006320.817993164 181792.0223999023...</td>\n",
       "    </tr>\n",
       "    <tr>\n",
       "      <th>3</th>\n",
       "      <td>29</td>\n",
       "      <td>135035.241651</td>\n",
       "      <td>4.201981e+08</td>\n",
       "      <td>POLYGON ((1056821.168212891 204964.1148071289,...</td>\n",
       "    </tr>\n",
       "    <tr>\n",
       "      <th>4</th>\n",
       "      <td>26</td>\n",
       "      <td>125677.678898</td>\n",
       "      <td>4.247909e+08</td>\n",
       "      <td>POLYGON ((1055302.83001709 222915.1176147461, ...</td>\n",
       "    </tr>\n",
       "  </tbody>\n",
       "</table>\n",
       "</div>"
      ],
      "text/plain": [
       "   SchoolDist     Shape_Leng    Shape_Area  \\\n",
       "0          16   35848.904605  4.676362e+07   \n",
       "1          32   37251.057847  5.189850e+07   \n",
       "2          23   40317.452033  4.740069e+07   \n",
       "3          29  135035.241651  4.201981e+08   \n",
       "4          26  125677.678898  4.247909e+08   \n",
       "\n",
       "                                            geometry  \n",
       "0  POLYGON ((1002796.091003418 192779.0115966797,...  \n",
       "1  POLYGON ((1008702.936035156 195569.1040039062,...  \n",
       "2  (POLYGON ((1006320.817993164 181792.0223999023...  \n",
       "3  POLYGON ((1056821.168212891 204964.1148071289,...  \n",
       "4  POLYGON ((1055302.83001709 222915.1176147461, ...  "
      ]
     },
     "execution_count": 145,
     "metadata": {},
     "output_type": "execute_result"
    }
   ],
   "source": [
    "filename = ! ls data/school_distrct/nysd_19a | grep .shp\n",
    "school_distrct = gpd.GeoDataFrame.from_file('data/school_distrct/nysd_19a/' + filename[0])\n",
    "print(school_distrct.shape)\n",
    "school_distrct.head()"
   ]
  },
  {
   "cell_type": "code",
   "execution_count": 146,
   "metadata": {
    "ExecuteTime": {
     "end_time": "2019-05-05T21:05:09.206806Z",
     "start_time": "2019-05-05T21:05:09.023507Z"
    }
   },
   "outputs": [
    {
     "data": {
      "text/plain": [
       "<matplotlib.axes._subplots.AxesSubplot at 0x1195a4ef0>"
      ]
     },
     "execution_count": 146,
     "metadata": {},
     "output_type": "execute_result"
    },
    {
     "data": {
      "image/png": "[encoded data removed]",
      "text/plain": [
       "<Figure size 432x288 with 1 Axes>"
      ]
     },
     "metadata": {},
     "output_type": "display_data"
    }
   ],
   "source": [
    "school_distrct.plot()"
   ]
  },
  {
   "cell_type": "code",
   "execution_count": 147,
   "metadata": {
    "ExecuteTime": {
     "end_time": "2019-05-05T21:05:09.635138Z",
     "start_time": "2019-05-05T21:05:09.624384Z"
    }
   },
   "outputs": [
    {
     "data": {
      "text/html": [
       "<div>\n",
       "<style scoped>\n",
       "    .dataframe tbody tr th:only-of-type {\n",
       "        vertical-align: middle;\n",
       "    }\n",
       "\n",
       "    .dataframe tbody tr th {\n",
       "        vertical-align: top;\n",
       "    }\n",
       "\n",
       "    .dataframe thead th {\n",
       "        text-align: right;\n",
       "    }\n",
       "</style>\n",
       "<table border=\"1\" class=\"dataframe\">\n",
       "  <thead>\n",
       "    <tr style=\"text-align: right;\">\n",
       "      <th></th>\n",
       "      <th>DBN</th>\n",
       "      <th>SCHOOL NAME</th>\n",
       "      <th>Num of SAT Test Takers</th>\n",
       "      <th>SAT Critical Reading Avg. Score</th>\n",
       "      <th>SAT Math Avg. Score</th>\n",
       "      <th>SAT Writing Avg. Score</th>\n",
       "      <th>School_District</th>\n",
       "    </tr>\n",
       "  </thead>\n",
       "  <tbody>\n",
       "    <tr>\n",
       "      <th>0</th>\n",
       "      <td>01M292</td>\n",
       "      <td>HENRY STREET SCHOOL FOR INTERNATIONAL STUDIES</td>\n",
       "      <td>29</td>\n",
       "      <td>355</td>\n",
       "      <td>404</td>\n",
       "      <td>363</td>\n",
       "      <td>1</td>\n",
       "    </tr>\n",
       "    <tr>\n",
       "      <th>1</th>\n",
       "      <td>01M448</td>\n",
       "      <td>UNIVERSITY NEIGHBORHOOD HIGH SCHOOL</td>\n",
       "      <td>91</td>\n",
       "      <td>383</td>\n",
       "      <td>423</td>\n",
       "      <td>366</td>\n",
       "      <td>1</td>\n",
       "    </tr>\n",
       "    <tr>\n",
       "      <th>2</th>\n",
       "      <td>01M450</td>\n",
       "      <td>EAST SIDE COMMUNITY SCHOOL</td>\n",
       "      <td>70</td>\n",
       "      <td>377</td>\n",
       "      <td>402</td>\n",
       "      <td>370</td>\n",
       "      <td>1</td>\n",
       "    </tr>\n",
       "    <tr>\n",
       "      <th>3</th>\n",
       "      <td>01M458</td>\n",
       "      <td>FORSYTH SATELLITE ACADEMY</td>\n",
       "      <td>7</td>\n",
       "      <td>414</td>\n",
       "      <td>401</td>\n",
       "      <td>359</td>\n",
       "      <td>1</td>\n",
       "    </tr>\n",
       "    <tr>\n",
       "      <th>4</th>\n",
       "      <td>01M509</td>\n",
       "      <td>MARTA VALLE HIGH SCHOOL</td>\n",
       "      <td>44</td>\n",
       "      <td>390</td>\n",
       "      <td>433</td>\n",
       "      <td>384</td>\n",
       "      <td>1</td>\n",
       "    </tr>\n",
       "  </tbody>\n",
       "</table>\n",
       "</div>"
      ],
      "text/plain": [
       "      DBN                                    SCHOOL NAME  \\\n",
       "0  01M292  HENRY STREET SCHOOL FOR INTERNATIONAL STUDIES   \n",
       "1  01M448            UNIVERSITY NEIGHBORHOOD HIGH SCHOOL   \n",
       "2  01M450                     EAST SIDE COMMUNITY SCHOOL   \n",
       "3  01M458                      FORSYTH SATELLITE ACADEMY   \n",
       "4  01M509                        MARTA VALLE HIGH SCHOOL   \n",
       "\n",
       "  Num of SAT Test Takers SAT Critical Reading Avg. Score SAT Math Avg. Score  \\\n",
       "0                     29                             355                 404   \n",
       "1                     91                             383                 423   \n",
       "2                     70                             377                 402   \n",
       "3                      7                             414                 401   \n",
       "4                     44                             390                 433   \n",
       "\n",
       "  SAT Writing Avg. Score School_District  \n",
       "0                    363               1  \n",
       "1                    366               1  \n",
       "2                    370               1  \n",
       "3                    359               1  \n",
       "4                    384               1  "
      ]
     },
     "execution_count": 147,
     "metadata": {},
     "output_type": "execute_result"
    }
   ],
   "source": [
    "sat.head()"
   ]
  },
  {
   "cell_type": "code",
   "execution_count": 148,
   "metadata": {
    "ExecuteTime": {
     "end_time": "2019-05-05T21:05:11.740512Z",
     "start_time": "2019-05-05T21:05:11.735930Z"
    }
   },
   "outputs": [
    {
     "data": {
      "text/plain": [
       "dtype('int64')"
      ]
     },
     "execution_count": 148,
     "metadata": {},
     "output_type": "execute_result"
    }
   ],
   "source": [
    "school_distrct.SchoolDist.dtype"
   ]
  },
  {
   "cell_type": "code",
   "execution_count": 149,
   "metadata": {
    "ExecuteTime": {
     "end_time": "2019-05-05T21:05:25.869631Z",
     "start_time": "2019-05-05T21:05:25.864798Z"
    }
   },
   "outputs": [
    {
     "data": {
      "text/plain": [
       "dtype('int64')"
      ]
     },
     "execution_count": 149,
     "metadata": {},
     "output_type": "execute_result"
    }
   ],
   "source": [
    "sat.School_District = sat.School_District.astype('int')\n",
    "pd.to_numeric(sat.School_District)\n",
    "sat.School_District.dtype"
   ]
  },
  {
   "cell_type": "code",
   "execution_count": 168,
   "metadata": {
    "ExecuteTime": {
     "end_time": "2019-05-05T21:08:39.712104Z",
     "start_time": "2019-05-05T21:08:39.691530Z"
    }
   },
   "outputs": [
    {
     "data": {
      "text/html": [
       "<div>\n",
       "<style scoped>\n",
       "    .dataframe tbody tr th:only-of-type {\n",
       "        vertical-align: middle;\n",
       "    }\n",
       "\n",
       "    .dataframe tbody tr th {\n",
       "        vertical-align: top;\n",
       "    }\n",
       "\n",
       "    .dataframe thead th {\n",
       "        text-align: right;\n",
       "    }\n",
       "</style>\n",
       "<table border=\"1\" class=\"dataframe\">\n",
       "  <thead>\n",
       "    <tr style=\"text-align: right;\">\n",
       "      <th></th>\n",
       "      <th>DBN</th>\n",
       "      <th>SCHOOL NAME</th>\n",
       "      <th>Num of SAT Test Takers</th>\n",
       "      <th>SAT Critical Reading Avg. Score</th>\n",
       "      <th>SAT Math Avg. Score</th>\n",
       "      <th>SAT Writing Avg. Score</th>\n",
       "      <th>School_District</th>\n",
       "      <th>SchoolDist</th>\n",
       "      <th>Shape_Leng</th>\n",
       "      <th>Shape_Area</th>\n",
       "      <th>geometry</th>\n",
       "    </tr>\n",
       "  </thead>\n",
       "  <tbody>\n",
       "    <tr>\n",
       "      <th>0</th>\n",
       "      <td>01M292</td>\n",
       "      <td>HENRY STREET SCHOOL FOR INTERNATIONAL STUDIES</td>\n",
       "      <td>29</td>\n",
       "      <td>355</td>\n",
       "      <td>404</td>\n",
       "      <td>363</td>\n",
       "      <td>1.0</td>\n",
       "      <td>1.0</td>\n",
       "      <td>28641.276279</td>\n",
       "      <td>3.516075e+07</td>\n",
       "      <td>POLYGON ((992073.466796875 203714.0759887695, ...</td>\n",
       "    </tr>\n",
       "    <tr>\n",
       "      <th>1</th>\n",
       "      <td>01M448</td>\n",
       "      <td>UNIVERSITY NEIGHBORHOOD HIGH SCHOOL</td>\n",
       "      <td>91</td>\n",
       "      <td>383</td>\n",
       "      <td>423</td>\n",
       "      <td>366</td>\n",
       "      <td>1.0</td>\n",
       "      <td>1.0</td>\n",
       "      <td>28641.276279</td>\n",
       "      <td>3.516075e+07</td>\n",
       "      <td>POLYGON ((992073.466796875 203714.0759887695, ...</td>\n",
       "    </tr>\n",
       "    <tr>\n",
       "      <th>2</th>\n",
       "      <td>01M450</td>\n",
       "      <td>EAST SIDE COMMUNITY SCHOOL</td>\n",
       "      <td>70</td>\n",
       "      <td>377</td>\n",
       "      <td>402</td>\n",
       "      <td>370</td>\n",
       "      <td>1.0</td>\n",
       "      <td>1.0</td>\n",
       "      <td>28641.276279</td>\n",
       "      <td>3.516075e+07</td>\n",
       "      <td>POLYGON ((992073.466796875 203714.0759887695, ...</td>\n",
       "    </tr>\n",
       "    <tr>\n",
       "      <th>3</th>\n",
       "      <td>01M458</td>\n",
       "      <td>FORSYTH SATELLITE ACADEMY</td>\n",
       "      <td>7</td>\n",
       "      <td>414</td>\n",
       "      <td>401</td>\n",
       "      <td>359</td>\n",
       "      <td>1.0</td>\n",
       "      <td>1.0</td>\n",
       "      <td>28641.276279</td>\n",
       "      <td>3.516075e+07</td>\n",
       "      <td>POLYGON ((992073.466796875 203714.0759887695, ...</td>\n",
       "    </tr>\n",
       "    <tr>\n",
       "      <th>4</th>\n",
       "      <td>01M509</td>\n",
       "      <td>MARTA VALLE HIGH SCHOOL</td>\n",
       "      <td>44</td>\n",
       "      <td>390</td>\n",
       "      <td>433</td>\n",
       "      <td>384</td>\n",
       "      <td>1.0</td>\n",
       "      <td>1.0</td>\n",
       "      <td>28641.276279</td>\n",
       "      <td>3.516075e+07</td>\n",
       "      <td>POLYGON ((992073.466796875 203714.0759887695, ...</td>\n",
       "    </tr>\n",
       "  </tbody>\n",
       "</table>\n",
       "</div>"
      ],
      "text/plain": [
       "      DBN                                    SCHOOL NAME  \\\n",
       "0  01M292  HENRY STREET SCHOOL FOR INTERNATIONAL STUDIES   \n",
       "1  01M448            UNIVERSITY NEIGHBORHOOD HIGH SCHOOL   \n",
       "2  01M450                     EAST SIDE COMMUNITY SCHOOL   \n",
       "3  01M458                      FORSYTH SATELLITE ACADEMY   \n",
       "4  01M509                        MARTA VALLE HIGH SCHOOL   \n",
       "\n",
       "  Num of SAT Test Takers SAT Critical Reading Avg. Score SAT Math Avg. Score  \\\n",
       "0                     29                             355                 404   \n",
       "1                     91                             383                 423   \n",
       "2                     70                             377                 402   \n",
       "3                      7                             414                 401   \n",
       "4                     44                             390                 433   \n",
       "\n",
       "  SAT Writing Avg. Score  School_District  SchoolDist    Shape_Leng  \\\n",
       "0                    363              1.0         1.0  28641.276279   \n",
       "1                    366              1.0         1.0  28641.276279   \n",
       "2                    370              1.0         1.0  28641.276279   \n",
       "3                    359              1.0         1.0  28641.276279   \n",
       "4                    384              1.0         1.0  28641.276279   \n",
       "\n",
       "     Shape_Area                                           geometry  \n",
       "0  3.516075e+07  POLYGON ((992073.466796875 203714.0759887695, ...  \n",
       "1  3.516075e+07  POLYGON ((992073.466796875 203714.0759887695, ...  \n",
       "2  3.516075e+07  POLYGON ((992073.466796875 203714.0759887695, ...  \n",
       "3  3.516075e+07  POLYGON ((992073.466796875 203714.0759887695, ...  \n",
       "4  3.516075e+07  POLYGON ((992073.466796875 203714.0759887695, ...  "
      ]
     },
     "execution_count": 168,
     "metadata": {},
     "output_type": "execute_result"
    }
   ],
   "source": [
    "school_sat = sat.merge(school_distrct, left_on = 'School_District', right_on = 'SchoolDist', how = 'outer')\n",
    "\n",
    "# test = pd.concat([school_distrct, sat])\n",
    "school_sat.head()"
   ]
  },
  {
   "cell_type": "code",
   "execution_count": 169,
   "metadata": {
    "ExecuteTime": {
     "end_time": "2019-05-05T21:08:40.134123Z",
     "start_time": "2019-05-05T21:08:40.130987Z"
    }
   },
   "outputs": [
    {
     "data": {
      "text/plain": [
       "(502, 11)"
      ]
     },
     "execution_count": 169,
     "metadata": {},
     "output_type": "execute_result"
    }
   ],
   "source": [
    "school_sat.shape"
   ]
  },
  {
   "cell_type": "code",
   "execution_count": 170,
   "metadata": {
    "ExecuteTime": {
     "end_time": "2019-05-05T21:08:40.430751Z",
     "start_time": "2019-05-05T21:08:40.424495Z"
    }
   },
   "outputs": [
    {
     "data": {
      "text/plain": [
       "(435, 11)"
      ]
     },
     "execution_count": 170,
     "metadata": {},
     "output_type": "execute_result"
    }
   ],
   "source": [
    "school_sat = school_sat.dropna()\n",
    "school_sat.shape"
   ]
  },
  {
   "cell_type": "code",
   "execution_count": 171,
   "metadata": {
    "ExecuteTime": {
     "end_time": "2019-05-05T21:08:40.685522Z",
     "start_time": "2019-05-05T21:08:40.682456Z"
    }
   },
   "outputs": [],
   "source": [
    "school_sat = school_sat[school_sat['SchoolDist'] < 7]"
   ]
  },
  {
   "cell_type": "code",
   "execution_count": 172,
   "metadata": {
    "ExecuteTime": {
     "end_time": "2019-05-05T21:08:40.941995Z",
     "start_time": "2019-05-05T21:08:40.937710Z"
    }
   },
   "outputs": [
    {
     "data": {
      "text/plain": [
       "(289, 11)"
      ]
     },
     "execution_count": 172,
     "metadata": {},
     "output_type": "execute_result"
    }
   ],
   "source": [
    "school_sat.shape"
   ]
  },
  {
   "cell_type": "code",
   "execution_count": 173,
   "metadata": {
    "ExecuteTime": {
     "end_time": "2019-05-05T21:08:41.236967Z",
     "start_time": "2019-05-05T21:08:41.219242Z"
    }
   },
   "outputs": [
    {
     "data": {
      "text/html": [
       "<div>\n",
       "<style scoped>\n",
       "    .dataframe tbody tr th:only-of-type {\n",
       "        vertical-align: middle;\n",
       "    }\n",
       "\n",
       "    .dataframe tbody tr th {\n",
       "        vertical-align: top;\n",
       "    }\n",
       "\n",
       "    .dataframe thead th {\n",
       "        text-align: right;\n",
       "    }\n",
       "</style>\n",
       "<table border=\"1\" class=\"dataframe\">\n",
       "  <thead>\n",
       "    <tr style=\"text-align: right;\">\n",
       "      <th></th>\n",
       "      <th>DBN</th>\n",
       "      <th>SCHOOL NAME</th>\n",
       "      <th>Num of SAT Test Takers</th>\n",
       "      <th>SAT Critical Reading Avg. Score</th>\n",
       "      <th>SAT Math Avg. Score</th>\n",
       "      <th>SAT Writing Avg. Score</th>\n",
       "      <th>School_District</th>\n",
       "      <th>SchoolDist</th>\n",
       "      <th>Shape_Leng</th>\n",
       "      <th>Shape_Area</th>\n",
       "      <th>geometry</th>\n",
       "    </tr>\n",
       "  </thead>\n",
       "  <tbody>\n",
       "    <tr>\n",
       "      <th>0</th>\n",
       "      <td>01M292</td>\n",
       "      <td>HENRY STREET SCHOOL FOR INTERNATIONAL STUDIES</td>\n",
       "      <td>29</td>\n",
       "      <td>355</td>\n",
       "      <td>404</td>\n",
       "      <td>363</td>\n",
       "      <td>1.0</td>\n",
       "      <td>1.0</td>\n",
       "      <td>28641.276279</td>\n",
       "      <td>3.516075e+07</td>\n",
       "      <td>POLYGON ((992073.466796875 203714.0759887695, ...</td>\n",
       "    </tr>\n",
       "    <tr>\n",
       "      <th>1</th>\n",
       "      <td>01M448</td>\n",
       "      <td>UNIVERSITY NEIGHBORHOOD HIGH SCHOOL</td>\n",
       "      <td>91</td>\n",
       "      <td>383</td>\n",
       "      <td>423</td>\n",
       "      <td>366</td>\n",
       "      <td>1.0</td>\n",
       "      <td>1.0</td>\n",
       "      <td>28641.276279</td>\n",
       "      <td>3.516075e+07</td>\n",
       "      <td>POLYGON ((992073.466796875 203714.0759887695, ...</td>\n",
       "    </tr>\n",
       "    <tr>\n",
       "      <th>2</th>\n",
       "      <td>01M450</td>\n",
       "      <td>EAST SIDE COMMUNITY SCHOOL</td>\n",
       "      <td>70</td>\n",
       "      <td>377</td>\n",
       "      <td>402</td>\n",
       "      <td>370</td>\n",
       "      <td>1.0</td>\n",
       "      <td>1.0</td>\n",
       "      <td>28641.276279</td>\n",
       "      <td>3.516075e+07</td>\n",
       "      <td>POLYGON ((992073.466796875 203714.0759887695, ...</td>\n",
       "    </tr>\n",
       "    <tr>\n",
       "      <th>3</th>\n",
       "      <td>01M458</td>\n",
       "      <td>FORSYTH SATELLITE ACADEMY</td>\n",
       "      <td>7</td>\n",
       "      <td>414</td>\n",
       "      <td>401</td>\n",
       "      <td>359</td>\n",
       "      <td>1.0</td>\n",
       "      <td>1.0</td>\n",
       "      <td>28641.276279</td>\n",
       "      <td>3.516075e+07</td>\n",
       "      <td>POLYGON ((992073.466796875 203714.0759887695, ...</td>\n",
       "    </tr>\n",
       "    <tr>\n",
       "      <th>4</th>\n",
       "      <td>01M509</td>\n",
       "      <td>MARTA VALLE HIGH SCHOOL</td>\n",
       "      <td>44</td>\n",
       "      <td>390</td>\n",
       "      <td>433</td>\n",
       "      <td>384</td>\n",
       "      <td>1.0</td>\n",
       "      <td>1.0</td>\n",
       "      <td>28641.276279</td>\n",
       "      <td>3.516075e+07</td>\n",
       "      <td>POLYGON ((992073.466796875 203714.0759887695, ...</td>\n",
       "    </tr>\n",
       "  </tbody>\n",
       "</table>\n",
       "</div>"
      ],
      "text/plain": [
       "      DBN                                    SCHOOL NAME  \\\n",
       "0  01M292  HENRY STREET SCHOOL FOR INTERNATIONAL STUDIES   \n",
       "1  01M448            UNIVERSITY NEIGHBORHOOD HIGH SCHOOL   \n",
       "2  01M450                     EAST SIDE COMMUNITY SCHOOL   \n",
       "3  01M458                      FORSYTH SATELLITE ACADEMY   \n",
       "4  01M509                        MARTA VALLE HIGH SCHOOL   \n",
       "\n",
       "  Num of SAT Test Takers SAT Critical Reading Avg. Score SAT Math Avg. Score  \\\n",
       "0                     29                             355                 404   \n",
       "1                     91                             383                 423   \n",
       "2                     70                             377                 402   \n",
       "3                      7                             414                 401   \n",
       "4                     44                             390                 433   \n",
       "\n",
       "  SAT Writing Avg. Score  School_District  SchoolDist    Shape_Leng  \\\n",
       "0                    363              1.0         1.0  28641.276279   \n",
       "1                    366              1.0         1.0  28641.276279   \n",
       "2                    370              1.0         1.0  28641.276279   \n",
       "3                    359              1.0         1.0  28641.276279   \n",
       "4                    384              1.0         1.0  28641.276279   \n",
       "\n",
       "     Shape_Area                                           geometry  \n",
       "0  3.516075e+07  POLYGON ((992073.466796875 203714.0759887695, ...  \n",
       "1  3.516075e+07  POLYGON ((992073.466796875 203714.0759887695, ...  \n",
       "2  3.516075e+07  POLYGON ((992073.466796875 203714.0759887695, ...  \n",
       "3  3.516075e+07  POLYGON ((992073.466796875 203714.0759887695, ...  \n",
       "4  3.516075e+07  POLYGON ((992073.466796875 203714.0759887695, ...  "
      ]
     },
     "execution_count": 173,
     "metadata": {},
     "output_type": "execute_result"
    }
   ],
   "source": [
    "school_sat.head()"
   ]
  },
  {
   "cell_type": "code",
   "execution_count": 175,
   "metadata": {
    "ExecuteTime": {
     "end_time": "2019-05-05T21:10:00.641979Z",
     "start_time": "2019-05-05T21:10:00.624920Z"
    }
   },
   "outputs": [
    {
     "data": {
      "text/html": [
       "<div>\n",
       "<style scoped>\n",
       "    .dataframe tbody tr th:only-of-type {\n",
       "        vertical-align: middle;\n",
       "    }\n",
       "\n",
       "    .dataframe tbody tr th {\n",
       "        vertical-align: top;\n",
       "    }\n",
       "\n",
       "    .dataframe thead th {\n",
       "        text-align: right;\n",
       "    }\n",
       "</style>\n",
       "<table border=\"1\" class=\"dataframe\">\n",
       "  <thead>\n",
       "    <tr style=\"text-align: right;\">\n",
       "      <th></th>\n",
       "      <th>DBN</th>\n",
       "      <th>Num of SAT Test Takers</th>\n",
       "      <th>SAT Critical Reading Avg. Score</th>\n",
       "      <th>SAT Math Avg. Score</th>\n",
       "      <th>SAT Writing Avg. Score</th>\n",
       "      <th>School_District</th>\n",
       "      <th>geometry</th>\n",
       "    </tr>\n",
       "  </thead>\n",
       "  <tbody>\n",
       "    <tr>\n",
       "      <th>0</th>\n",
       "      <td>01M292</td>\n",
       "      <td>29</td>\n",
       "      <td>355</td>\n",
       "      <td>404</td>\n",
       "      <td>363</td>\n",
       "      <td>1.0</td>\n",
       "      <td>POLYGON ((992073.466796875 203714.0759887695, ...</td>\n",
       "    </tr>\n",
       "    <tr>\n",
       "      <th>1</th>\n",
       "      <td>01M448</td>\n",
       "      <td>91</td>\n",
       "      <td>383</td>\n",
       "      <td>423</td>\n",
       "      <td>366</td>\n",
       "      <td>1.0</td>\n",
       "      <td>POLYGON ((992073.466796875 203714.0759887695, ...</td>\n",
       "    </tr>\n",
       "    <tr>\n",
       "      <th>2</th>\n",
       "      <td>01M450</td>\n",
       "      <td>70</td>\n",
       "      <td>377</td>\n",
       "      <td>402</td>\n",
       "      <td>370</td>\n",
       "      <td>1.0</td>\n",
       "      <td>POLYGON ((992073.466796875 203714.0759887695, ...</td>\n",
       "    </tr>\n",
       "    <tr>\n",
       "      <th>3</th>\n",
       "      <td>01M458</td>\n",
       "      <td>7</td>\n",
       "      <td>414</td>\n",
       "      <td>401</td>\n",
       "      <td>359</td>\n",
       "      <td>1.0</td>\n",
       "      <td>POLYGON ((992073.466796875 203714.0759887695, ...</td>\n",
       "    </tr>\n",
       "    <tr>\n",
       "      <th>4</th>\n",
       "      <td>01M509</td>\n",
       "      <td>44</td>\n",
       "      <td>390</td>\n",
       "      <td>433</td>\n",
       "      <td>384</td>\n",
       "      <td>1.0</td>\n",
       "      <td>POLYGON ((992073.466796875 203714.0759887695, ...</td>\n",
       "    </tr>\n",
       "  </tbody>\n",
       "</table>\n",
       "</div>"
      ],
      "text/plain": [
       "      DBN Num of SAT Test Takers SAT Critical Reading Avg. Score  \\\n",
       "0  01M292                     29                             355   \n",
       "1  01M448                     91                             383   \n",
       "2  01M450                     70                             377   \n",
       "3  01M458                      7                             414   \n",
       "4  01M509                     44                             390   \n",
       "\n",
       "  SAT Math Avg. Score SAT Writing Avg. Score  School_District  \\\n",
       "0                 404                    363              1.0   \n",
       "1                 423                    366              1.0   \n",
       "2                 402                    370              1.0   \n",
       "3                 401                    359              1.0   \n",
       "4                 433                    384              1.0   \n",
       "\n",
       "                                            geometry  \n",
       "0  POLYGON ((992073.466796875 203714.0759887695, ...  \n",
       "1  POLYGON ((992073.466796875 203714.0759887695, ...  \n",
       "2  POLYGON ((992073.466796875 203714.0759887695, ...  \n",
       "3  POLYGON ((992073.466796875 203714.0759887695, ...  \n",
       "4  POLYGON ((992073.466796875 203714.0759887695, ...  "
      ]
     },
     "execution_count": 175,
     "metadata": {},
     "output_type": "execute_result"
    }
   ],
   "source": [
    "school_sat = school_sat[['DBN', 'Num of SAT Test Takers', 'SAT Critical Reading Avg. Score', 'SAT Math Avg. Score', 'SAT Writing Avg. Score', 'School_District', 'geometry']]\n",
    "school_sat.head()"
   ]
  },
  {
   "cell_type": "code",
   "execution_count": 177,
   "metadata": {
    "ExecuteTime": {
     "end_time": "2019-05-06T00:16:15.990216Z",
     "start_time": "2019-05-06T00:16:15.987937Z"
    }
   },
   "outputs": [],
   "source": [
    "# school_sat.to_csv('school_sat.csv')"
   ]
  },
  {
   "cell_type": "code",
   "execution_count": null,
   "metadata": {},
   "outputs": [],
   "source": []
  }
 ],
 "metadata": {
  "kernelspec": {
   "display_name": "Python 3",
   "language": "python",
   "name": "python3"
  },
  "language_info": {
   "codemirror_mode": {
    "name": "ipython",
    "version": 3
   },
   "file_extension": ".py",
   "mimetype": "text/x-python",
   "name": "python",
   "nbconvert_exporter": "python",
   "pygments_lexer": "ipython3",
   "version": "3.6.5"
  },
  "toc": {
   "base_numbering": 1,
   "nav_menu": {},
   "number_sections": true,
   "sideBar": true,
   "skip_h1_title": false,
   "title_cell": "Table of Contents",
   "title_sidebar": "Contents",
   "toc_cell": false,
   "toc_position": {
    "height": "calc(100% - 180px)",
    "left": "10px",
    "top": "150px",
    "width": "153.438px"
   },
   "toc_section_display": true,
   "toc_window_display": true
  }
 },
 "nbformat": 4,
 "nbformat_minor": 2
}
